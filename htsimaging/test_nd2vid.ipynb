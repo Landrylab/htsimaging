{
 "cells": [
  {
   "cell_type": "code",
   "execution_count": 13,
   "metadata": {
    "collapsed": false
   },
   "outputs": [],
   "source": [
    "#!/usr/bin/env python\n",
    "\n",
    "# Copyright 2016, Rohan Dandage <rraadd_8@hotmail.com>\n",
    "# This program is distributed under General Public License v. 3.    \n",
    "\n",
    "import sys\n",
    "import os\n",
    "from os.path import exists,splitext,basename\n",
    "import glob\n",
    "import nd2reader\n",
    "import pandas as pd\n",
    "import string\n",
    "import numpy as np\n",
    "from scipy import stats,ndimage\n",
    "from multiprocessing import Pool\n",
    "import cv2\n",
    "from skimage.segmentation import random_walker\n",
    "# from skimage.data import binary_blobs\n",
    "from skimage import io,exposure,restoration,filters,morphology,measure\n",
    "import matplotlib.animation as animation\n",
    "import matplotlib.pyplot as plt\n",
    "import subprocess\n",
    "from nd2kins import nd2arr_list,raw2phasecorr,arr_list2regions\n",
    "from nd2vid import arr_list2vid\n",
    "from nd2vid import main as nd2vid"
   ]
  },
  {
   "cell_type": "code",
   "execution_count": 11,
   "metadata": {
    "collapsed": false
   },
   "outputs": [],
   "source": [
    "fh_xls='/home/kclabws1/Documents/propro/writ/prjs/2_chem_chap_screens/data/yeast_gfp_half_life/data/160309_sdsd_replicates/160309_sdsd_replicates.xlsx'\n",
    "well='C03'\n",
    "info=pd.read_excel(fh_xls,'info')\n",
    "info=info.set_index('varname')\n",
    "for var in info.iterrows() :\n",
    "    val=info['input'][var[0]]\n",
    "    if not pd.isnull(val):\n",
    "        exec(\"%s=info['input']['%s']\" % (var[0],var[0]),locals(), globals())\n",
    "    else:\n",
    "        exec(\"%s=info['default']['%s']\" % (var[0],var[0]),locals(), globals())\n",
    "data_job=pd.read_excel(fh_xls,'JobView')\n",
    "data_fns=pd.pivot_table(data_job,values='File Name',index='Loop_bleach Index',columns='Well Name', aggfunc=lambda x: x.iloc[0])\n",
    "data_fns_P =pd.pivot_table(data_job,values='File Name',index='TimeLapse1 Index',columns='Well Name', aggfunc=lambda x: x.iloc[0])\n",
    "data_fns   =pd.concat([data_fns,data_fns_P],axis=0)"
   ]
  },
  {
   "cell_type": "code",
   "execution_count": 3,
   "metadata": {
    "collapsed": false,
    "scrolled": true
   },
   "outputs": [
    {
     "name": "stdout",
     "output_type": "stream",
     "text": [
      ">>> STATUS  : nd2vid : C03\n"
     ]
    },
    {
     "name": "stderr",
     "output_type": "stream",
     "text": [
      "/home/kclabws1/Enthought/Canopy_64bit/User/lib/python2.7/site-packages/skimage/util/dtype.py:111: UserWarning: Possible precision loss when converting from float64 to uint8\n",
      "  \"%s to %s\" % (dtypeobj_in, dtypeobj))\n"
     ]
    }
   ],
   "source": [
    "nd2vid(fh_xls,well)"
   ]
  },
  {
   "cell_type": "code",
   "execution_count": 14,
   "metadata": {
    "collapsed": false
   },
   "outputs": [],
   "source": [
    "# nd_fns=data_fns[well].dropna().unique()\n",
    "# arr_list=nd2arr_list(nd_dh,nd_fns)\n",
    "# arr_list_stb=raw2phasecorr(arr_list)\n",
    "# regions,kins_mean=arr_list2regions(arr_list_stb,3)\n",
    "arr_list2vid(arr_list_stb,regions,kins_mean,('%s.%sstb.mp4' % (fh_xls,well)),384, 384)"
   ]
  },
  {
   "cell_type": "code",
   "execution_count": null,
   "metadata": {
    "collapsed": false
   },
   "outputs": [],
   "source": [
    "# import numpy as np\n",
    "# import matplotlib.pyplot as plt\n",
    "\n",
    "# from skimage import data, img_as_float,filters\n",
    "# from skimage.restoration import denoise_tv_chambolle, denoise_bilateral\n",
    "\n",
    "# %pylab inline\n",
    "# pre_bleach=arr_list_stb[0]\n",
    "pre_bleach=pre_bleach_A16\n",
    "denoised=restoration.denoise_bilateral(pre_bleach.astype('uint16'), sigma_range=0.01, sigma_spatial=15)\n",
    "smoothened = filters.median(denoised,np.ones((4,4)))\n",
    "markers = np.zeros(smoothened.shape, dtype=np.uint)\n",
    "markers[smoothened < filters.threshold_otsu(smoothened)] = 1\n",
    "markers[smoothened > filters.threshold_otsu(smoothened)] = 2\n",
    "labels = random_walker(smoothened, markers, beta=10, mode='bf')\n",
    "regions= measure.label(labels)\n",
    "props = measure.regionprops(regions,arr_list[0]) #ref\n",
    "regions_areas=np.array([prop.area  for prop in props])\n",
    "regions_means=np.array([prop.mean_intensity  for prop in props])\n",
    "regions_lbls =np.array([prop.label for prop in props])\n",
    "regions_index_large=np.where((regions_areas<10000) & (regions_areas>200) & (regions_means>3000))[0]\n",
    "regions_lbls_large=regions_lbls[regions_index_large] \n",
    "regions_large=np.zeros((regions.shape), dtype=bool)\n",
    "for i in regions_lbls_large:\n",
    "    booli = (regions == i) \n",
    "    regions_large=np.logical_or(regions_large,booli)\n",
    "plt.figure(figsize=(18, 5))\n",
    "ax1=plt.subplot(1,4,1)\n",
    "ax1.imshow(pre_bleach)\n",
    "ax2=plt.subplot(1,4,2)\n",
    "ax2.imshow(smoothened)\n",
    "ax3=plt.subplot(1,4,3)\n",
    "ax3.imshow(regions,cmap='spectral')\n",
    "ax4=plt.subplot(1,4,4)\n",
    "ax4.imshow(regions_large,cmap='spectral')"
   ]
  },
  {
   "cell_type": "code",
   "execution_count": null,
   "metadata": {
    "collapsed": false,
    "scrolled": true
   },
   "outputs": [],
   "source": [
    "#random walker\n",
    "pre_bleach=arr_list_stb[0]\n",
    "smoothened = filters.median(pre_bleach.astype('uint16'),np.ones((4,4)))\n",
    "markers = np.zeros(smoothened.shape, dtype=np.uint)\n",
    "markers[smoothened < filters.threshold_otsu(smoothened)] = 1\n",
    "markers[smoothened > filters.threshold_otsu(smoothened)] = 2\n",
    "labels = random_walker(smoothened, markers, beta=10, mode='bf')\n",
    "regions= measure.label(labels)\n",
    "# plt.imshow(regions,cmap='jet')\n",
    "label_objects, nb_labels = ndi.label(regions)\n",
    "sizes = np.bincount(label_objects.ravel())\n",
    "mask_sizes = sizes > 100\n",
    "mask_sizes[0] = 0\n",
    "regions_cleaned = mask_sizes[label_objects]"
   ]
  },
  {
   "cell_type": "code",
   "execution_count": null,
   "metadata": {
    "collapsed": false,
    "scrolled": true
   },
   "outputs": [],
   "source": [
    "#watershed\n",
    "from skimage.filters import sobel\n",
    "from skimage import img_as_float\n",
    "# pre_bleach_float = img_as_float(pre_bleach.astype('float64'))\n",
    "image=pre_bleach.astype('float64')\n",
    "elevation_map = sobel(image)\n",
    "smoothened = filters.median(pre_bleach.astype('uint16'),np.ones((4,4)))\n",
    "markers = np.zeros_like(image)\n",
    "markers[smoothened < filters.threshold_otsu(smoothened)] = 1\n",
    "markers[smoothened > filters.threshold_otsu(smoothened)] = 2\n",
    "segmentation = morphology.watershed(elevation_map, markers)\n",
    "plt.imshow(segmentation, cmap=plt.cm.spectral, interpolation='nearest')"
   ]
  }
 ],
 "metadata": {
  "kernelspec": {
   "display_name": "Python 2",
   "language": "python",
   "name": "python2"
  },
  "language_info": {
   "codemirror_mode": {
    "name": "ipython",
    "version": 2
   },
   "file_extension": ".py",
   "mimetype": "text/x-python",
   "name": "python",
   "nbconvert_exporter": "python",
   "pygments_lexer": "ipython2",
   "version": "2.7.9"
  }
 },
 "nbformat": 4,
 "nbformat_minor": 0
}
