{
 "cells": [
  {
   "cell_type": "code",
   "execution_count": 41,
   "metadata": {
    "collapsed": true
   },
   "outputs": [],
   "source": [
    "import sys\n",
    "import pandas as pd\n",
    "import string\n",
    "import numpy as np\n",
    "from scipy import stats\n",
    "import os\n",
    "from multiprocessing import Pool\n",
    "from os.path import splitext,basename,exists\n",
    "\n",
    "data_xls_fh='../test/test.xlsx'\n",
    "info=pd.read_excel(data_xls_fh,'info')\n",
    "info=info.set_index('varname')\n",
    "for var in info.iterrows():\n",
    "    val=info['input'][var[0]]\n",
    "    #print var[0]\n",
    "    if not pd.isnull(val):\n",
    "        exec(\"%s=info['input']['%s']\" % (var[0],var[0]))\n",
    "    else:\n",
    "        exec(\"%s=info['default']['%s']\" % (var[0],var[0]))\n",
    "\n",
    "data_job=pd.read_excel(data_xls_fh,'JobView')\n",
    "data_job_del_cols=[str(s) for s in data_job.columns if 'Intensity' in str(s) ]\n",
    "for col in data_job_del_cols:\n",
    "    exec(\"del data_job['%s']\" % col,locals(), globals())\n",
    "\n",
    "nd_fns =[str(s) for s in data_job['File Name'].tolist()]\n",
    "frameis=[int(s) for s in data_job['File Frame Index'].tolist()]\n",
    "\n",
    "csv_fhs =[]\n",
    "nums_fhs=[]\n",
    "nd_fn_framei_tps=[]\n",
    "for i in range(len(nd_fns)):\n",
    "    csv_fhs.append(\"%s/%s%02d.csv\" % (nd_dh,nd_fns[i],frameis[i]))\n",
    "    nums_fhs.append(\"%s/%s%02d.csv.nums\" % (nd_dh,nd_fns[i],frameis[i]))\n",
    "    nd_fn_framei_tps.append([nd_fns[i],frameis[i]])\n",
    "\n",
    "    #       csv2nums(nd_fns_frameis_tps[0])\n"
   ]
  },
  {
   "cell_type": "code",
   "execution_count": 42,
   "metadata": {
    "collapsed": true
   },
   "outputs": [],
   "source": []
  },
  {
   "cell_type": "code",
   "execution_count": 46,
   "metadata": {
    "collapsed": true
   },
   "outputs": [],
   "source": [
    "def csv2nums(csv_fh):\n",
    "    nums_fh=csv_fh+\".nums\"    \n",
    "    if exists(csv_fh):# and (not exists(nums_fh)) :\n",
    "        print \">>> STATUS  : processing : %s\" % csv_fh \n",
    "        arr=np.genfromtxt(csv_fh,delimiter=',')\n",
    "        vec=np.concatenate(arr)\n",
    "        nums=pd.DataFrame()\n",
    "        \n",
    "        nums.loc[0,'mode']=stats.mode(vec)[0][0]\n",
    "        nums.loc[0,'mean']=np.mean(vec)\n",
    "        nums.loc[0,'median']=np.median(vec)\n",
    "        # vec = vec\n",
    "        # vec = vec[~np.isnan(vec)]\n",
    "        # vec = vec[~np.isinf(vec)]\n",
    "        try:\n",
    "            argsGumbel0 = gumbel_r.fit(vec)\n",
    "            bins = np.arange(0, 5000, 50)#np.arange(5000)\n",
    "            probs, binedges = np.histogram(vec, bins=bins, normed=True)\n",
    "            bincenters = 0.5*(binedges[1:]+binedges[:-1])\n",
    "            argsGumbel1 = curve_fit(gumbel_r.pdf, bincenters, probs, p0=argsGumbel0)[0]\n",
    "            nums.loc[0,'peak']=argsGumbel1[0]\n",
    "        except:\n",
    "            nums.loc[0,'peak']=np.nan\n",
    "        \n",
    "        # Thresholding\n",
    "        dw_threshold=2000\n",
    "        up_threshold=5000\n",
    "        vec = vec[vec>dw_threshold]\n",
    "        vec = vec[vec<up_threshold]\n",
    "\n",
    "        nums.loc[0,'mode_thr']=stats.mode(vec)[0][0]\n",
    "        nums.loc[0,'mean_thr']=np.mean(vec)\n",
    "        nums.loc[0,'median_thr']=np.median(vec)\n",
    "        # vec = vec\n",
    "        # vec = vec[~np.isnan(vec)]\n",
    "        # vec = vec[~np.isinf(vec)]\n",
    "        try:\n",
    "            argsGumbel0 = gumbel_r.fit(vec)\n",
    "            bins = np.arange(0, 5000, 50)#np.arange(5000)\n",
    "            probs, binedges = np.histogram(vec, bins=bins, normed=True)\n",
    "            bincenters = 0.5*(binedges[1:]+binedges[:-1])\n",
    "            argsGumbel1 = curve_fit(gumbel_r.pdf, bincenters, probs, p0=argsGumbel0)[0]\n",
    "            nums.loc[0,'peak_thr']=argsGumbel1[0]\n",
    "        except:\n",
    "            nums.loc[0,'peak_thr']=np.nan\n",
    "        \n",
    "        nums.to_csv(nums_fh)\n",
    "    else:\n",
    "        print \">>> WARNING   : skipping : %s\" % csv_fh\n"
   ]
  },
  {
   "cell_type": "code",
   "execution_count": 69,
   "metadata": {
    "collapsed": false
   },
   "outputs": [
    {
     "name": "stdout",
     "output_type": "stream",
     "text": [
      "2522.57406892\n"
     ]
    },
    {
     "data": {
      "image/png": "[encoded data removed]",
      "text/plain": [
       "<matplotlib.figure.Figure at 0x7f0d918ce190>"
      ]
     },
     "metadata": {},
     "output_type": "display_data"
    }
   ],
   "source": [
    "\n",
    "csv_fh=csv_fhs[1000]\n",
    "arr=np.genfromtxt(csv_fh,delimiter=',')\n",
    "vec=np.concatenate(arr)\n",
    "nums=pd.DataFrame()\n",
    "nums.loc[0,'mode']=stats.mode(vec)[0][0]\n",
    "nums.loc[0,'mean']=np.mean(vec)\n",
    "nums.loc[0,'median']=np.median(vec)\n",
    "\n",
    "from scipy.optimize import curve_fit\n",
    "from scipy.stats import norm #gumbel_r\n",
    "import matplotlib.pyplot as plt\n",
    "%matplotlib inline\n",
    "# # amps = np.loadtxt(\"pyr_11.txt\")*-1000 # http://pastebin.com/raw.php?i=uPK31JGE\n",
    "# amps = vec\n",
    "# # amps = amps[~np.isnan(amps)]\n",
    "# # amps = amps[~np.isinf(amps)]\n",
    "# argsGumbel0 = gumbel_r.fit(amps)\n",
    "# # argsGauss0 = norm.fit(amps)\n",
    "# bins = np.arange(0, 5000, 50)#np.arange(5000)\n",
    "# probs, binedges = np.histogram(amps, bins=bins, normed=True)\n",
    "# bincenters = 0.5*(binedges[1:]+binedges[:-1])\n",
    "# argsGumbel1 = curve_fit(gumbel_r.pdf, bincenters, probs, p0=argsGumbel0)[0]\n",
    "# # argsGauss1 = curve_fit(norm.pdf, bincenters, probs, p0=argsGauss0)[0]\n",
    "try:\n",
    "    bins = np.arange(0, 5000, 50)#np.arange(5000)\n",
    "    probs, binedges = np.histogram(vec, bins=bins, normed=True)\n",
    "    bincenters = 0.5*(binedges[1:]+binedges[:-1])\n",
    "#     argsGumbel0 = gumbel_r.fit(vec)\n",
    "#     argsGumbel1 = curve_fit(gumbel_r.pdf, bincenters, probs, p0=argsGumbel0)[0]\n",
    "    # nums.loc[0,'peak']=argsGumbel1[0]\n",
    "    # print argsGumbel1[0]\n",
    "    argsGauss0 = norm.fit(amps)\n",
    "    argsGauss1 = curve_fit(norm.pdf, bincenters, probs, p0=argsGauss0)[0]\n",
    "    print argsGauss1[0]\n",
    "    \n",
    "    plt.figure()\n",
    "    plt.hist(amps, bins=bins, normed=True, color='0.5')\n",
    "    xes = bincenters#np.arange(0, 5000, 50)\n",
    "#     plt.plot(xes, gumbel_r.pdf(xes, *argsGumbel0), linewidth=2, label='Gumbel, maximum likelihood')\n",
    "#     plt.plot(xes, gumbel_r.pdf(xes, *argsGumbel1), linewidth=2, label='Gumbel, least squares')\n",
    "    plt.plot(xes, norm.pdf(xes, *argsGauss0), linewidth=2, label='Gauss, maximum likelihood')\n",
    "#     plt.plot(xes, norm.pdf(xes, *argsGauss1), linewidth=2, label='Gauss, least squares')\n",
    "    plt.legend(loc='upper right')\n",
    "    plt.show()\n",
    "except:\n",
    "    print \"n\""
   ]
  },
  {
   "cell_type": "code",
   "execution_count": 53,
   "metadata": {
    "collapsed": false,
    "scrolled": true
   },
   "outputs": [
    {
     "data": {
      "text/plain": [
       "1434.7421100980446"
      ]
     },
     "execution_count": 53,
     "metadata": {},
     "output_type": "execute_result"
    }
   ],
   "source": []
  },
  {
   "cell_type": "code",
   "execution_count": 50,
   "metadata": {
    "collapsed": false,
    "scrolled": true
   },
   "outputs": [
    {
     "name": "stdout",
     "output_type": "stream",
     "text": [
      ">>> STATUS  : processing : /media/Transcend/20160219_000356_267/WellA01_WellA01_Seq0344.nd200.csv\n"
     ]
    }
   ],
   "source": [
    "csv2nums('/media/Transcend/20160219_000356_267/WellA01_WellA01_Seq0344.nd200.csv')"
   ]
  },
  {
   "cell_type": "code",
   "execution_count": null,
   "metadata": {
    "collapsed": true
   },
   "outputs": [],
   "source": []
  },
  {
   "cell_type": "code",
   "execution_count": 2,
   "metadata": {
    "collapsed": true
   },
   "outputs": [],
   "source": [
    "    data_job.set_index(['File Name', 'File Frame Index'], inplace=True)\n",
    "    for i in range(len(nums_fhs)):  \n",
    "        nums_fh=nums_fhs[i]\n",
    "        nums_df=pd.read_csv(nums_fh)\n",
    "        nd_fn=nd_fn_framei_tps[i][0]\n",
    "        framei=nd_fn_framei_tps[i][1]\n",
    "        data_job.loc[(nd_fn,framei),'mean']  =nums_df.loc[0,'mean']\n",
    "        data_job.loc[(nd_fn,framei),'mode']  =nums_df.loc[0,'mode']\n",
    "        data_job.loc[(nd_fn,framei),'median']=nums_df.loc[0,'median']\n",
    "        data_job.loc[(nd_fn,framei),'peak']=nums_df.loc[0,'peak']\n",
    "        data_job.loc[(nd_fn,framei),'mean_thr']  =nums_df.loc[0,'mean_thr']\n",
    "        data_job.loc[(nd_fn,framei),'mode_thr']  =nums_df.loc[0,'mode_thr']\n",
    "        data_job.loc[(nd_fn,framei),'median_thr']=nums_df.loc[0,'median_thr']\n",
    "        data_job.loc[(nd_fn,framei),'peak_thr']=nums_df.loc[0,'peak_thr']\n",
    "\n",
    "    data_job=data_job.reset_index()\n",
    "    data_job.to_csv(data_xls_fh+\".nums\")      "
   ]
  },
  {
   "cell_type": "code",
   "execution_count": 16,
   "metadata": {
    "collapsed": true
   },
   "outputs": [],
   "source": [
    "csv_fhs=[   'WellA01_WellA01_Seq0001.nd200.csv',\n",
    "            'WellA01_WellA01_Seq0050.nd200.csv',\n",
    "            'WellA01_WellA01_Seq0099.nd200.csv',\n",
    "            'WellA01_WellA01_Seq0148.nd200.csv',\n",
    "            'WellA01_WellA01_Seq0197.nd200.csv',\n",
    "            'WellA01_WellA01_Seq0246.nd200.csv',\n",
    "            'WellA01_WellA01_Seq0295.nd200.csv',\n",
    "            'WellA01_WellA01_Seq0344.nd200.csv',\n",
    "            'WellA01_WellA01_Seq0393.nd200.csv',\n",
    "            'WellA01_WellA01_Seq0442.nd200.csv',\n",
    "            'WellA01_WellA01_Seq0491.nd200.csv',\n",
    "            'WellA01_WellA01_Seq0540.nd200.csv',\n",
    "            'WellA01_WellA01_Seq0589.nd200.csv',\n",
    "            'WellA01_WellA01_Seq0638.nd200.csv',\n",
    "            'WellA01_WellA01_Seq0687.nd200.csv',\n",
    "            'WellA01_WellA01_Seq0736.nd200.csv',\n",
    "            'WellA01_WellA01_Seq0785.nd200.csv',\n",
    "            'WellA01_WellA01_Seq0834.nd200.csv',\n",
    "            'WellA01_WellA01_Seq0883.nd200.csv',\n",
    "            'WellA01_WellA01_Seq0932.nd200.csv',\n",
    "            'WellA01_WellA01_Seq0981.nd200.csv',\n",
    "            'WellA01_WellA01_Seq1030.nd200.csv',\n",
    "            'WellA01_WellA01_Seq1079.nd200.csv',\n",
    "            'WellA01_WellA01_Seq1128.nd200.csv']"
   ]
  },
  {
   "cell_type": "code",
   "execution_count": 7,
   "metadata": {
    "collapsed": false
   },
   "outputs": [],
   "source": [
    "import numpy as np\n",
    "nd_dh='/media/Transcend/20160219_000356_267'\n",
    "for csv_fh in csv_fhs:\n",
    "    arr=np.genfromtxt(nd_dh+\"/\"+csv_fh,delimiter=',')\n",
    "    vec=np.concatenate(arr)\n",
    "    bins = np.arange(0, 5000, 50)#np.arange(5000)\n",
    "    probs, binedges = np.histogram(vec, bins=bins, normed=True)\n",
    "    np.savetxt(\"%s/%s.lut\" % (nd_dh,csv_fh), probs, delimiter=\",\")"
   ]
  },
  {
   "cell_type": "code",
   "execution_count": 11,
   "metadata": {
    "collapsed": false
   },
   "outputs": [
    {
     "data": {
      "text/plain": [
       "time  0     1025.000000\n",
       "      1     1075.000000\n",
       "      2     1125.000000\n",
       "      3     1175.000000\n",
       "      4     1225.000000\n",
       "      5     1275.000000\n",
       "      6     1325.000000\n",
       "      7     1375.000000\n",
       "      8     1425.000000\n",
       "      9     1475.000000\n",
       "      10    1525.000000\n",
       "      11    1575.000000\n",
       "      12    1625.000000\n",
       "      13    1675.000000\n",
       "      14    1725.000000\n",
       "      15    1775.000000\n",
       "      16    1825.000000\n",
       "      17    1875.000000\n",
       "      18    1925.000000\n",
       "      19    1975.000000\n",
       "      20    2025.000000\n",
       "      21    2075.000000\n",
       "      22    2125.000000\n",
       "      23    2175.000000\n",
       "      24    2225.000000\n",
       "      25    2275.000000\n",
       "      26    2325.000000\n",
       "      27    2375.000000\n",
       "      28    2425.000000\n",
       "      29    2475.000000\n",
       "               ...     \n",
       "t24   17       0.000632\n",
       "      18       0.000554\n",
       "      19       0.000481\n",
       "      20       0.000415\n",
       "      21       0.000355\n",
       "      22       0.000304\n",
       "      23       0.000268\n",
       "      24       0.000222\n",
       "      25       0.000185\n",
       "      26       0.000157\n",
       "      27       0.000125\n",
       "      28       0.000110\n",
       "      29       0.000088\n",
       "      30       0.000070\n",
       "      31       0.000057\n",
       "      32       0.000046\n",
       "      33       0.000037\n",
       "      34       0.000030\n",
       "      35       0.000023\n",
       "      36       0.000018\n",
       "      37       0.000015\n",
       "      38       0.000012\n",
       "      39       0.000008\n",
       "      40       0.000006\n",
       "      41       0.000005\n",
       "      42       0.000004\n",
       "      43       0.000004\n",
       "      44       0.000002\n",
       "      45       0.000002\n",
       "      46       0.000001\n",
       "dtype: float64"
      ]
     },
     "execution_count": 11,
     "metadata": {},
     "output_type": "execute_result"
    }
   ],
   "source": [
    "import pandas as pd\n",
    "data_luts=pd.read_excel('/home/kclabws1/Documents/propro/writ/prjs/2_chem_chap_screens/progs/htsimaging/test/lut/comb.xls','Sheet3')\n",
    "data_luts.unstack()"
   ]
  },
  {
   "cell_type": "code",
   "execution_count": 10,
   "metadata": {
    "collapsed": false
   },
   "outputs": [
    {
     "ename": "IOError",
     "evalue": "[Errno socket error] [SSL: CERTIFICATE_VERIFY_FAILED] certificate verify failed (_ssl.c:581)",
     "output_type": "error",
     "traceback": [
      "\u001b[1;31m---------------------------------------------------------------------------\u001b[0m",
      "\u001b[1;31mIOError\u001b[0m                                   Traceback (most recent call last)",
      "\u001b[1;32m<ipython-input-10-eedac6348a3a>\u001b[0m in \u001b[0;36m<module>\u001b[1;34m()\u001b[0m\n\u001b[0;32m      1\u001b[0m \u001b[1;32mimport\u001b[0m \u001b[0mseaborn\u001b[0m \u001b[1;32mas\u001b[0m \u001b[0msns\u001b[0m\u001b[1;33m\u001b[0m\u001b[0m\n\u001b[0;32m      2\u001b[0m \u001b[0msns\u001b[0m\u001b[1;33m.\u001b[0m\u001b[0mset_style\u001b[0m\u001b[1;33m(\u001b[0m\u001b[1;34m\"whitegrid\"\u001b[0m\u001b[1;33m)\u001b[0m\u001b[1;33m\u001b[0m\u001b[0m\n\u001b[1;32m----> 3\u001b[1;33m \u001b[0mtips\u001b[0m \u001b[1;33m=\u001b[0m \u001b[0msns\u001b[0m\u001b[1;33m.\u001b[0m\u001b[0mload_dataset\u001b[0m\u001b[1;33m(\u001b[0m\u001b[1;34m\"tips\"\u001b[0m\u001b[1;33m)\u001b[0m\u001b[1;33m\u001b[0m\u001b[0m\n\u001b[0m\u001b[0;32m      4\u001b[0m \u001b[1;31m# ax = sns.violinplot(x=\"day\", y=\"total_bill\", data=data_luts)\u001b[0m\u001b[1;33m\u001b[0m\u001b[1;33m\u001b[0m\u001b[0m\n",
      "\u001b[1;32m/home/kclabws1/Enthought/Canopy_64bit/User/lib/python2.7/site-packages/seaborn/utils.pyc\u001b[0m in \u001b[0;36mload_dataset\u001b[1;34m(name, cache, data_home, **kws)\u001b[0m\n\u001b[0;32m    417\u001b[0m                                   os.path.basename(full_path))\n\u001b[0;32m    418\u001b[0m         \u001b[1;32mif\u001b[0m \u001b[1;32mnot\u001b[0m \u001b[0mos\u001b[0m\u001b[1;33m.\u001b[0m\u001b[0mpath\u001b[0m\u001b[1;33m.\u001b[0m\u001b[0mexists\u001b[0m\u001b[1;33m(\u001b[0m\u001b[0mcache_path\u001b[0m\u001b[1;33m)\u001b[0m\u001b[1;33m:\u001b[0m\u001b[1;33m\u001b[0m\u001b[0m\n\u001b[1;32m--> 419\u001b[1;33m             \u001b[0murlretrieve\u001b[0m\u001b[1;33m(\u001b[0m\u001b[0mfull_path\u001b[0m\u001b[1;33m,\u001b[0m \u001b[0mcache_path\u001b[0m\u001b[1;33m)\u001b[0m\u001b[1;33m\u001b[0m\u001b[0m\n\u001b[0m\u001b[0;32m    420\u001b[0m         \u001b[0mfull_path\u001b[0m \u001b[1;33m=\u001b[0m \u001b[0mcache_path\u001b[0m\u001b[1;33m\u001b[0m\u001b[0m\n\u001b[0;32m    421\u001b[0m \u001b[1;33m\u001b[0m\u001b[0m\n",
      "\u001b[1;32m/home/kclabws1/Canopy/appdata/canopy-1.5.5.3123.rh5-x86_64/lib/python2.7/urllib.pyc\u001b[0m in \u001b[0;36murlretrieve\u001b[1;34m(url, filename, reporthook, data, context)\u001b[0m\n\u001b[0;32m     96\u001b[0m     \u001b[1;32melse\u001b[0m\u001b[1;33m:\u001b[0m\u001b[1;33m\u001b[0m\u001b[0m\n\u001b[0;32m     97\u001b[0m         \u001b[0mopener\u001b[0m \u001b[1;33m=\u001b[0m \u001b[0m_urlopener\u001b[0m\u001b[1;33m\u001b[0m\u001b[0m\n\u001b[1;32m---> 98\u001b[1;33m     \u001b[1;32mreturn\u001b[0m \u001b[0mopener\u001b[0m\u001b[1;33m.\u001b[0m\u001b[0mretrieve\u001b[0m\u001b[1;33m(\u001b[0m\u001b[0murl\u001b[0m\u001b[1;33m,\u001b[0m \u001b[0mfilename\u001b[0m\u001b[1;33m,\u001b[0m \u001b[0mreporthook\u001b[0m\u001b[1;33m,\u001b[0m \u001b[0mdata\u001b[0m\u001b[1;33m)\u001b[0m\u001b[1;33m\u001b[0m\u001b[0m\n\u001b[0m\u001b[0;32m     99\u001b[0m \u001b[1;32mdef\u001b[0m \u001b[0murlcleanup\u001b[0m\u001b[1;33m(\u001b[0m\u001b[1;33m)\u001b[0m\u001b[1;33m:\u001b[0m\u001b[1;33m\u001b[0m\u001b[0m\n\u001b[0;32m    100\u001b[0m     \u001b[1;32mif\u001b[0m \u001b[0m_urlopener\u001b[0m\u001b[1;33m:\u001b[0m\u001b[1;33m\u001b[0m\u001b[0m\n",
      "\u001b[1;32m/home/kclabws1/Canopy/appdata/canopy-1.5.5.3123.rh5-x86_64/lib/python2.7/urllib.pyc\u001b[0m in \u001b[0;36mretrieve\u001b[1;34m(self, url, filename, reporthook, data)\u001b[0m\n\u001b[0;32m    243\u001b[0m             \u001b[1;32mexcept\u001b[0m \u001b[0mIOError\u001b[0m\u001b[1;33m:\u001b[0m\u001b[1;33m\u001b[0m\u001b[0m\n\u001b[0;32m    244\u001b[0m                 \u001b[1;32mpass\u001b[0m\u001b[1;33m\u001b[0m\u001b[0m\n\u001b[1;32m--> 245\u001b[1;33m         \u001b[0mfp\u001b[0m \u001b[1;33m=\u001b[0m \u001b[0mself\u001b[0m\u001b[1;33m.\u001b[0m\u001b[0mopen\u001b[0m\u001b[1;33m(\u001b[0m\u001b[0murl\u001b[0m\u001b[1;33m,\u001b[0m \u001b[0mdata\u001b[0m\u001b[1;33m)\u001b[0m\u001b[1;33m\u001b[0m\u001b[0m\n\u001b[0m\u001b[0;32m    246\u001b[0m         \u001b[1;32mtry\u001b[0m\u001b[1;33m:\u001b[0m\u001b[1;33m\u001b[0m\u001b[0m\n\u001b[0;32m    247\u001b[0m             \u001b[0mheaders\u001b[0m \u001b[1;33m=\u001b[0m \u001b[0mfp\u001b[0m\u001b[1;33m.\u001b[0m\u001b[0minfo\u001b[0m\u001b[1;33m(\u001b[0m\u001b[1;33m)\u001b[0m\u001b[1;33m\u001b[0m\u001b[0m\n",
      "\u001b[1;32m/home/kclabws1/Canopy/appdata/canopy-1.5.5.3123.rh5-x86_64/lib/python2.7/urllib.pyc\u001b[0m in \u001b[0;36mopen\u001b[1;34m(self, fullurl, data)\u001b[0m\n\u001b[0;32m    211\u001b[0m         \u001b[1;32mtry\u001b[0m\u001b[1;33m:\u001b[0m\u001b[1;33m\u001b[0m\u001b[0m\n\u001b[0;32m    212\u001b[0m             \u001b[1;32mif\u001b[0m \u001b[0mdata\u001b[0m \u001b[1;32mis\u001b[0m \u001b[0mNone\u001b[0m\u001b[1;33m:\u001b[0m\u001b[1;33m\u001b[0m\u001b[0m\n\u001b[1;32m--> 213\u001b[1;33m                 \u001b[1;32mreturn\u001b[0m \u001b[0mgetattr\u001b[0m\u001b[1;33m(\u001b[0m\u001b[0mself\u001b[0m\u001b[1;33m,\u001b[0m \u001b[0mname\u001b[0m\u001b[1;33m)\u001b[0m\u001b[1;33m(\u001b[0m\u001b[0murl\u001b[0m\u001b[1;33m)\u001b[0m\u001b[1;33m\u001b[0m\u001b[0m\n\u001b[0m\u001b[0;32m    214\u001b[0m             \u001b[1;32melse\u001b[0m\u001b[1;33m:\u001b[0m\u001b[1;33m\u001b[0m\u001b[0m\n\u001b[0;32m    215\u001b[0m                 \u001b[1;32mreturn\u001b[0m \u001b[0mgetattr\u001b[0m\u001b[1;33m(\u001b[0m\u001b[0mself\u001b[0m\u001b[1;33m,\u001b[0m \u001b[0mname\u001b[0m\u001b[1;33m)\u001b[0m\u001b[1;33m(\u001b[0m\u001b[0murl\u001b[0m\u001b[1;33m,\u001b[0m \u001b[0mdata\u001b[0m\u001b[1;33m)\u001b[0m\u001b[1;33m\u001b[0m\u001b[0m\n",
      "\u001b[1;32m/home/kclabws1/Canopy/appdata/canopy-1.5.5.3123.rh5-x86_64/lib/python2.7/urllib.pyc\u001b[0m in \u001b[0;36mopen_https\u001b[1;34m(self, url, data)\u001b[0m\n\u001b[0;32m    441\u001b[0m             \u001b[1;32mif\u001b[0m \u001b[0mrealhost\u001b[0m\u001b[1;33m:\u001b[0m \u001b[0mh\u001b[0m\u001b[1;33m.\u001b[0m\u001b[0mputheader\u001b[0m\u001b[1;33m(\u001b[0m\u001b[1;34m'Host'\u001b[0m\u001b[1;33m,\u001b[0m \u001b[0mrealhost\u001b[0m\u001b[1;33m)\u001b[0m\u001b[1;33m\u001b[0m\u001b[0m\n\u001b[0;32m    442\u001b[0m             \u001b[1;32mfor\u001b[0m \u001b[0margs\u001b[0m \u001b[1;32min\u001b[0m \u001b[0mself\u001b[0m\u001b[1;33m.\u001b[0m\u001b[0maddheaders\u001b[0m\u001b[1;33m:\u001b[0m \u001b[0mh\u001b[0m\u001b[1;33m.\u001b[0m\u001b[0mputheader\u001b[0m\u001b[1;33m(\u001b[0m\u001b[1;33m*\u001b[0m\u001b[0margs\u001b[0m\u001b[1;33m)\u001b[0m\u001b[1;33m\u001b[0m\u001b[0m\n\u001b[1;32m--> 443\u001b[1;33m             \u001b[0mh\u001b[0m\u001b[1;33m.\u001b[0m\u001b[0mendheaders\u001b[0m\u001b[1;33m(\u001b[0m\u001b[0mdata\u001b[0m\u001b[1;33m)\u001b[0m\u001b[1;33m\u001b[0m\u001b[0m\n\u001b[0m\u001b[0;32m    444\u001b[0m             \u001b[0merrcode\u001b[0m\u001b[1;33m,\u001b[0m \u001b[0merrmsg\u001b[0m\u001b[1;33m,\u001b[0m \u001b[0mheaders\u001b[0m \u001b[1;33m=\u001b[0m \u001b[0mh\u001b[0m\u001b[1;33m.\u001b[0m\u001b[0mgetreply\u001b[0m\u001b[1;33m(\u001b[0m\u001b[1;33m)\u001b[0m\u001b[1;33m\u001b[0m\u001b[0m\n\u001b[0;32m    445\u001b[0m             \u001b[0mfp\u001b[0m \u001b[1;33m=\u001b[0m \u001b[0mh\u001b[0m\u001b[1;33m.\u001b[0m\u001b[0mgetfile\u001b[0m\u001b[1;33m(\u001b[0m\u001b[1;33m)\u001b[0m\u001b[1;33m\u001b[0m\u001b[0m\n",
      "\u001b[1;32m/home/kclabws1/Canopy/appdata/canopy-1.5.5.3123.rh5-x86_64/lib/python2.7/httplib.pyc\u001b[0m in \u001b[0;36mendheaders\u001b[1;34m(self, message_body)\u001b[0m\n\u001b[0;32m    995\u001b[0m         \u001b[1;32melse\u001b[0m\u001b[1;33m:\u001b[0m\u001b[1;33m\u001b[0m\u001b[0m\n\u001b[0;32m    996\u001b[0m             \u001b[1;32mraise\u001b[0m \u001b[0mCannotSendHeader\u001b[0m\u001b[1;33m(\u001b[0m\u001b[1;33m)\u001b[0m\u001b[1;33m\u001b[0m\u001b[0m\n\u001b[1;32m--> 997\u001b[1;33m         \u001b[0mself\u001b[0m\u001b[1;33m.\u001b[0m\u001b[0m_send_output\u001b[0m\u001b[1;33m(\u001b[0m\u001b[0mmessage_body\u001b[0m\u001b[1;33m)\u001b[0m\u001b[1;33m\u001b[0m\u001b[0m\n\u001b[0m\u001b[0;32m    998\u001b[0m \u001b[1;33m\u001b[0m\u001b[0m\n\u001b[0;32m    999\u001b[0m     \u001b[1;32mdef\u001b[0m \u001b[0mrequest\u001b[0m\u001b[1;33m(\u001b[0m\u001b[0mself\u001b[0m\u001b[1;33m,\u001b[0m \u001b[0mmethod\u001b[0m\u001b[1;33m,\u001b[0m \u001b[0murl\u001b[0m\u001b[1;33m,\u001b[0m \u001b[0mbody\u001b[0m\u001b[1;33m=\u001b[0m\u001b[0mNone\u001b[0m\u001b[1;33m,\u001b[0m \u001b[0mheaders\u001b[0m\u001b[1;33m=\u001b[0m\u001b[1;33m{\u001b[0m\u001b[1;33m}\u001b[0m\u001b[1;33m)\u001b[0m\u001b[1;33m:\u001b[0m\u001b[1;33m\u001b[0m\u001b[0m\n",
      "\u001b[1;32m/home/kclabws1/Canopy/appdata/canopy-1.5.5.3123.rh5-x86_64/lib/python2.7/httplib.pyc\u001b[0m in \u001b[0;36m_send_output\u001b[1;34m(self, message_body)\u001b[0m\n\u001b[0;32m    848\u001b[0m             \u001b[0mmsg\u001b[0m \u001b[1;33m+=\u001b[0m \u001b[0mmessage_body\u001b[0m\u001b[1;33m\u001b[0m\u001b[0m\n\u001b[0;32m    849\u001b[0m             \u001b[0mmessage_body\u001b[0m \u001b[1;33m=\u001b[0m \u001b[0mNone\u001b[0m\u001b[1;33m\u001b[0m\u001b[0m\n\u001b[1;32m--> 850\u001b[1;33m         \u001b[0mself\u001b[0m\u001b[1;33m.\u001b[0m\u001b[0msend\u001b[0m\u001b[1;33m(\u001b[0m\u001b[0mmsg\u001b[0m\u001b[1;33m)\u001b[0m\u001b[1;33m\u001b[0m\u001b[0m\n\u001b[0m\u001b[0;32m    851\u001b[0m         \u001b[1;32mif\u001b[0m \u001b[0mmessage_body\u001b[0m \u001b[1;32mis\u001b[0m \u001b[1;32mnot\u001b[0m \u001b[0mNone\u001b[0m\u001b[1;33m:\u001b[0m\u001b[1;33m\u001b[0m\u001b[0m\n\u001b[0;32m    852\u001b[0m             \u001b[1;31m#message_body was not a string (i.e. it is a file) and\u001b[0m\u001b[1;33m\u001b[0m\u001b[1;33m\u001b[0m\u001b[0m\n",
      "\u001b[1;32m/home/kclabws1/Canopy/appdata/canopy-1.5.5.3123.rh5-x86_64/lib/python2.7/httplib.pyc\u001b[0m in \u001b[0;36msend\u001b[1;34m(self, data)\u001b[0m\n\u001b[0;32m    810\u001b[0m         \u001b[1;32mif\u001b[0m \u001b[0mself\u001b[0m\u001b[1;33m.\u001b[0m\u001b[0msock\u001b[0m \u001b[1;32mis\u001b[0m \u001b[0mNone\u001b[0m\u001b[1;33m:\u001b[0m\u001b[1;33m\u001b[0m\u001b[0m\n\u001b[0;32m    811\u001b[0m             \u001b[1;32mif\u001b[0m \u001b[0mself\u001b[0m\u001b[1;33m.\u001b[0m\u001b[0mauto_open\u001b[0m\u001b[1;33m:\u001b[0m\u001b[1;33m\u001b[0m\u001b[0m\n\u001b[1;32m--> 812\u001b[1;33m                 \u001b[0mself\u001b[0m\u001b[1;33m.\u001b[0m\u001b[0mconnect\u001b[0m\u001b[1;33m(\u001b[0m\u001b[1;33m)\u001b[0m\u001b[1;33m\u001b[0m\u001b[0m\n\u001b[0m\u001b[0;32m    813\u001b[0m             \u001b[1;32melse\u001b[0m\u001b[1;33m:\u001b[0m\u001b[1;33m\u001b[0m\u001b[0m\n\u001b[0;32m    814\u001b[0m                 \u001b[1;32mraise\u001b[0m \u001b[0mNotConnected\u001b[0m\u001b[1;33m(\u001b[0m\u001b[1;33m)\u001b[0m\u001b[1;33m\u001b[0m\u001b[0m\n",
      "\u001b[1;32m/home/kclabws1/Canopy/appdata/canopy-1.5.5.3123.rh5-x86_64/lib/python2.7/httplib.pyc\u001b[0m in \u001b[0;36mconnect\u001b[1;34m(self)\u001b[0m\n\u001b[0;32m   1210\u001b[0m \u001b[1;33m\u001b[0m\u001b[0m\n\u001b[0;32m   1211\u001b[0m             self.sock = self._context.wrap_socket(self.sock,\n\u001b[1;32m-> 1212\u001b[1;33m                                                   server_hostname=server_hostname)\n\u001b[0m\u001b[0;32m   1213\u001b[0m \u001b[1;33m\u001b[0m\u001b[0m\n\u001b[0;32m   1214\u001b[0m     \u001b[0m__all__\u001b[0m\u001b[1;33m.\u001b[0m\u001b[0mappend\u001b[0m\u001b[1;33m(\u001b[0m\u001b[1;34m\"HTTPSConnection\"\u001b[0m\u001b[1;33m)\u001b[0m\u001b[1;33m\u001b[0m\u001b[0m\n",
      "\u001b[1;32m/home/kclabws1/Canopy/appdata/canopy-1.5.5.3123.rh5-x86_64/lib/python2.7/ssl.pyc\u001b[0m in \u001b[0;36mwrap_socket\u001b[1;34m(self, sock, server_side, do_handshake_on_connect, suppress_ragged_eofs, server_hostname)\u001b[0m\n\u001b[0;32m    348\u001b[0m                          \u001b[0msuppress_ragged_eofs\u001b[0m\u001b[1;33m=\u001b[0m\u001b[0msuppress_ragged_eofs\u001b[0m\u001b[1;33m,\u001b[0m\u001b[1;33m\u001b[0m\u001b[0m\n\u001b[0;32m    349\u001b[0m                          \u001b[0mserver_hostname\u001b[0m\u001b[1;33m=\u001b[0m\u001b[0mserver_hostname\u001b[0m\u001b[1;33m,\u001b[0m\u001b[1;33m\u001b[0m\u001b[0m\n\u001b[1;32m--> 350\u001b[1;33m                          _context=self)\n\u001b[0m\u001b[0;32m    351\u001b[0m \u001b[1;33m\u001b[0m\u001b[0m\n\u001b[0;32m    352\u001b[0m     \u001b[1;32mdef\u001b[0m \u001b[0mset_npn_protocols\u001b[0m\u001b[1;33m(\u001b[0m\u001b[0mself\u001b[0m\u001b[1;33m,\u001b[0m \u001b[0mnpn_protocols\u001b[0m\u001b[1;33m)\u001b[0m\u001b[1;33m:\u001b[0m\u001b[1;33m\u001b[0m\u001b[0m\n",
      "\u001b[1;32m/home/kclabws1/Canopy/appdata/canopy-1.5.5.3123.rh5-x86_64/lib/python2.7/ssl.pyc\u001b[0m in \u001b[0;36m__init__\u001b[1;34m(self, sock, keyfile, certfile, server_side, cert_reqs, ssl_version, ca_certs, do_handshake_on_connect, family, type, proto, fileno, suppress_ragged_eofs, npn_protocols, ciphers, server_hostname, _context)\u001b[0m\n\u001b[0;32m    564\u001b[0m                         \u001b[1;31m# non-blocking\u001b[0m\u001b[1;33m\u001b[0m\u001b[1;33m\u001b[0m\u001b[0m\n\u001b[0;32m    565\u001b[0m                         \u001b[1;32mraise\u001b[0m \u001b[0mValueError\u001b[0m\u001b[1;33m(\u001b[0m\u001b[1;34m\"do_handshake_on_connect should not be specified for non-blocking sockets\"\u001b[0m\u001b[1;33m)\u001b[0m\u001b[1;33m\u001b[0m\u001b[0m\n\u001b[1;32m--> 566\u001b[1;33m                     \u001b[0mself\u001b[0m\u001b[1;33m.\u001b[0m\u001b[0mdo_handshake\u001b[0m\u001b[1;33m(\u001b[0m\u001b[1;33m)\u001b[0m\u001b[1;33m\u001b[0m\u001b[0m\n\u001b[0m\u001b[0;32m    567\u001b[0m \u001b[1;33m\u001b[0m\u001b[0m\n\u001b[0;32m    568\u001b[0m             \u001b[1;32mexcept\u001b[0m \u001b[1;33m(\u001b[0m\u001b[0mOSError\u001b[0m\u001b[1;33m,\u001b[0m \u001b[0mValueError\u001b[0m\u001b[1;33m)\u001b[0m\u001b[1;33m:\u001b[0m\u001b[1;33m\u001b[0m\u001b[0m\n",
      "\u001b[1;32m/home/kclabws1/Canopy/appdata/canopy-1.5.5.3123.rh5-x86_64/lib/python2.7/ssl.pyc\u001b[0m in \u001b[0;36mdo_handshake\u001b[1;34m(self, block)\u001b[0m\n\u001b[0;32m    786\u001b[0m             \u001b[1;32mif\u001b[0m \u001b[0mtimeout\u001b[0m \u001b[1;33m==\u001b[0m \u001b[1;36m0.0\u001b[0m \u001b[1;32mand\u001b[0m \u001b[0mblock\u001b[0m\u001b[1;33m:\u001b[0m\u001b[1;33m\u001b[0m\u001b[0m\n\u001b[0;32m    787\u001b[0m                 \u001b[0mself\u001b[0m\u001b[1;33m.\u001b[0m\u001b[0msettimeout\u001b[0m\u001b[1;33m(\u001b[0m\u001b[0mNone\u001b[0m\u001b[1;33m)\u001b[0m\u001b[1;33m\u001b[0m\u001b[0m\n\u001b[1;32m--> 788\u001b[1;33m             \u001b[0mself\u001b[0m\u001b[1;33m.\u001b[0m\u001b[0m_sslobj\u001b[0m\u001b[1;33m.\u001b[0m\u001b[0mdo_handshake\u001b[0m\u001b[1;33m(\u001b[0m\u001b[1;33m)\u001b[0m\u001b[1;33m\u001b[0m\u001b[0m\n\u001b[0m\u001b[0;32m    789\u001b[0m         \u001b[1;32mfinally\u001b[0m\u001b[1;33m:\u001b[0m\u001b[1;33m\u001b[0m\u001b[0m\n\u001b[0;32m    790\u001b[0m             \u001b[0mself\u001b[0m\u001b[1;33m.\u001b[0m\u001b[0msettimeout\u001b[0m\u001b[1;33m(\u001b[0m\u001b[0mtimeout\u001b[0m\u001b[1;33m)\u001b[0m\u001b[1;33m\u001b[0m\u001b[0m\n",
      "\u001b[1;31mIOError\u001b[0m: [Errno socket error] [SSL: CERTIFICATE_VERIFY_FAILED] certificate verify failed (_ssl.c:581)"
     ]
    }
   ],
   "source": [
    "import seaborn as sns\n",
    "sns.set_style(\"whitegrid\")\n",
    "tips = sns.load_dataset(\"tips\")\n",
    "# ax = sns.violinplot(x=\"day\", y=\"total_bill\", data=data_luts)"
   ]
  },
  {
   "cell_type": "code",
   "execution_count": 24,
   "metadata": {
    "collapsed": false
   },
   "outputs": [
    {
     "data": {
      "image/png": "[encoded data removed]",
      "text/plain": [
       "<matplotlib.figure.Figure at 0x7f92db94fb10>"
      ]
     },
     "metadata": {},
     "output_type": "display_data"
    }
   ],
   "source": [
    "import matplotlib.pyplot as plt\n",
    "%matplotlib inline\n",
    "# import matplotlib.image as mpimg\n",
    "nd_dh='/media/Transcend/20160219_000356_267'\n",
    "for i in range(len(csv_fhs)):    \n",
    "    csv_fh=csv_fhs[i]\n",
    "    if i==0:\n",
    "        arr=np.genfromtxt(nd_dh+\"/\"+csv_fh,delimiter=',')\n",
    "        x=np.concatenate(arr)\n",
    "    else:\n",
    "        arr=np.genfromtxt(nd_dh+\"/\"+csv_fh,delimiter=',')\n",
    "        y=np.concatenate(arr)\n",
    "        plt.scatter(x,y)\n",
    "#     arr=np.genfromtxt(\"/media/Transcend/20160219_000356_267/WellA01_WellA01_Seq0001.nd200.csv\",delimiter=',')\n",
    "#     # image = mpimg.imread(\"/media/Transcend/20160219_000356_267/WellA01_WellA01_Seq0001.nd200.csv\")\n",
    "#     plt.imshow(arr)\n",
    "#     plt.show()"
   ]
  },
  {
   "cell_type": "code",
   "execution_count": 21,
   "metadata": {
    "collapsed": false
   },
   "outputs": [
    {
     "data": {
      "text/plain": [
       "array([ 1295.,  1222.,  1119., ...,  1142.,  1264.,  1843.])"
      ]
     },
     "execution_count": 21,
     "metadata": {},
     "output_type": "execute_result"
    }
   ],
   "source": [
    "y"
   ]
  },
  {
   "cell_type": "code",
   "execution_count": null,
   "metadata": {
    "collapsed": true
   },
   "outputs": [],
   "source": []
  }
 ],
 "metadata": {
  "kernelspec": {
   "display_name": "Python 2",
   "language": "python",
   "name": "python2"
  },
  "language_info": {
   "codemirror_mode": {
    "name": "ipython",
    "version": 2
   },
   "file_extension": ".py",
   "mimetype": "text/x-python",
   "name": "python",
   "nbconvert_exporter": "python",
   "pygments_lexer": "ipython2",
   "version": "2.7.9"
  }
 },
 "nbformat": 4,
 "nbformat_minor": 0
}
