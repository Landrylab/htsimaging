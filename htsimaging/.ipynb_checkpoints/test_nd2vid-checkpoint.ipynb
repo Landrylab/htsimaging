{
 "cells": [
  {
   "cell_type": "code",
   "execution_count": 1,
   "metadata": {
    "collapsed": false
   },
   "outputs": [],
   "source": [
    "#!/usr/bin/env python\n",
    "\n",
    "# Copyright 2016, Rohan Dandage <rraadd_8@hotmail.com>\n",
    "# This program is distributed under General Public License v. 3.    \n",
    "\n",
    "import sys\n",
    "import os\n",
    "from os.path import exists,splitext,basename\n",
    "import glob\n",
    "import nd2reader\n",
    "import pandas as pd\n",
    "import string\n",
    "import numpy as np\n",
    "from scipy import stats,ndimage\n",
    "from multiprocessing import Pool\n",
    "import cv2\n",
    "from skimage.segmentation import random_walker\n",
    "# from skimage.data import binary_blobs\n",
    "from skimage import io,exposure,restoration,filters,morphology,measure\n",
    "import matplotlib.animation as animation\n",
    "import matplotlib.pyplot as plt\n",
    "import subprocess\n",
    "from nd2kins import nd2arr_list,raw2phasecorr,arr_list2regions\n",
    "from nd2vid import main as nd2vid"
   ]
  },
  {
   "cell_type": "code",
   "execution_count": 2,
   "metadata": {
    "collapsed": true
   },
   "outputs": [],
   "source": [
    "fh_xls='/home/kclabws1/Documents/propro/writ/prjs/2_chem_chap_screens/data/yeast_gfp_half_life/data/160309_sdsd_replicates/160309_sdsd_replicates.xlsx'\n",
    "well='C03'"
   ]
  },
  {
   "cell_type": "code",
   "execution_count": 3,
   "metadata": {
    "collapsed": false,
    "scrolled": true
   },
   "outputs": [
    {
     "name": "stdout",
     "output_type": "stream",
     "text": [
      ">>> STATUS  : nd2vid : C03\n"
     ]
    },
    {
     "name": "stderr",
     "output_type": "stream",
     "text": [
      "/home/kclabws1/Enthought/Canopy_64bit/User/lib/python2.7/site-packages/skimage/util/dtype.py:111: UserWarning: Possible precision loss when converting from float64 to uint8\n",
      "  \"%s to %s\" % (dtypeobj_in, dtypeobj))\n"
     ]
    }
   ],
   "source": [
    "nd2vid(fh_xls,well)"
   ]
  },
  {
   "cell_type": "code",
   "execution_count": null,
   "metadata": {
    "collapsed": false
   },
   "outputs": [],
   "source": [
    "nd_fns=data_fns[well].dropna().unique()\n",
    "arr_list=nd2arr_list(nd_dh,nd_fns)\n",
    "arr_list_stb=raw2phasecorr(arr_list)\n",
    "regions,kins_mean=arr_list2regions(arr_list_stb,3)\n",
    "arr_list2vid(arr_list_stb,regions,kins_mean,('%s.%sstb.mp4' % (fh_xls,well)),384, 384)"
   ]
  },
  {
   "cell_type": "code",
   "execution_count": null,
   "metadata": {
    "collapsed": false,
    "scrolled": false
   },
   "outputs": [],
   "source": [
    "props = measure.regionprops(regions,arr_list[0]) #ref\n",
    "regions_areas=np.array([prop.area  for prop in props])\n",
    "regions_lbls =np.array([prop.label for prop in props])\n",
    "regions_index_large=np.where((regions_areas<5000) & (regions_areas>200))[0]\n",
    "regions_lbls_large=regions_lbls[regions_index_large] \n",
    "kins_mean=pd.DataFrame(columns=regions_index_large, index=range(len(arr_list)))\n",
    "regions_index_large_bool=np.zeros((regions.shape), dtype=bool)\n",
    "for i in regions_lbls_large:\n",
    "    booli = (regions == i) \n",
    "    regions_index_large_bool=np.logical_or(regions_index_large_bool,booli)"
   ]
  },
  {
   "cell_type": "code",
   "execution_count": null,
   "metadata": {
    "collapsed": false
   },
   "outputs": [],
   "source": [
    "plt.imshow(regions_index_large_bool)"
   ]
  },
  {
   "cell_type": "code",
   "execution_count": null,
   "metadata": {
    "collapsed": false
   },
   "outputs": [],
   "source": [
    "# regions_areas[170]\n",
    "# regions_index_large_bool\n",
    "# import collections\n",
    "# len(np.where(regions_index_large_bool==True)[0])\n",
    "# len(np.where(regions==3))\n",
    "# (regions==3).sum()\n",
    "# plt.imshow(regions==3,cmap='gray')\n",
    "# plt.imshow(regions_index_large_bool)\n",
    "# plt.imshow(regions)"
   ]
  },
  {
   "cell_type": "code",
   "execution_count": null,
   "metadata": {
    "collapsed": false,
    "scrolled": true
   },
   "outputs": [],
   "source": [
    "# list(kins_mean.columns)\n",
    "# regions_areas\n",
    "for prop in props:\n",
    "    break"
   ]
  },
  {
   "cell_type": "code",
   "execution_count": null,
   "metadata": {
    "collapsed": false
   },
   "outputs": [],
   "source": [
    "regions.item??"
   ]
  },
  {
   "cell_type": "code",
   "execution_count": null,
   "metadata": {
    "collapsed": false
   },
   "outputs": [],
   "source": [
    "regions_areas=np.array([prop.area  for prop in props])\n",
    "\n",
    "regions_lbls"
   ]
  },
  {
   "cell_type": "code",
   "execution_count": null,
   "metadata": {
    "collapsed": false
   },
   "outputs": [],
   "source": [
    "np.logical_or(np.array([True ,False]),np.array([True ,True]))"
   ]
  },
  {
   "cell_type": "code",
   "execution_count": null,
   "metadata": {
    "collapsed": false
   },
   "outputs": [],
   "source": [
    "\n",
    "plt.plot(np.log(regions_areas))"
   ]
  },
  {
   "cell_type": "code",
   "execution_count": null,
   "metadata": {
    "collapsed": false
   },
   "outputs": [],
   "source": [
    "# np.any(regions_index_large_bool)\n",
    "# imshow(booli)\n",
    "# regions_index_large\n",
    "kins_mean"
   ]
  },
  {
   "cell_type": "code",
   "execution_count": null,
   "metadata": {
    "collapsed": false
   },
   "outputs": [],
   "source": [
    "# plt.imshow(arr_list[0])\n",
    "plt.imshow(regions_cleaned)\n",
    "(regions_cleaned == True).sum()"
   ]
  },
  {
   "cell_type": "code",
   "execution_count": null,
   "metadata": {
    "collapsed": false
   },
   "outputs": [],
   "source": [
    "dpi=100\n",
    "xpixels=384\n",
    "ypixels=384\n",
    "fig = plt.figure(figsize=(ypixels/dpi*2, xpixels/dpi), dpi=dpi)\n",
    "ax_img = plt.subplot(1,2,1)\n",
    "ax_kin = plt.subplot(1,2,2)\n",
    "ax_img.set_axis_off()\n",
    "ax_img.set_aspect('equal')\n",
    "for i in [0]:#range(len(arr_list)):\n",
    "    ax_img.imshow(arr_list[i],cmap='gray',animated=True)\n",
    "    ax_img.contour(regions, [0.5], linewidths=0.25, colors='r',animated=False)\n",
    "    if len(kins_mean.columns)>1:\n",
    "        kins_mean.plot(x='time',legend=False,ax=ax_kin)\n",
    "#         kins_mean.mean(axis=1).plot(legend=False,lw=6,ax=ax_kin)\n",
    "        ax_kin.plot(kins_mean['time'],kins_mean.drop(['time'], axis=1).mean(axis=1),lw=6,color='k')\n",
    "    ax_kin.set_xlim([kins_mean.loc[0,'time'],kins_mean.loc[len(kins_mean)-1,'time']])\n",
    "    ax_kin.axvline(kins_mean.loc[i,'time'], color='r', linestyle='--',lw=2)\n",
    "ax_img.set_aspect('equal')\n",
    "plt.savefig('test.png')\n",
    "# ax_kin.clear()"
   ]
  },
  {
   "cell_type": "code",
   "execution_count": null,
   "metadata": {
    "collapsed": false,
    "scrolled": true
   },
   "outputs": [],
   "source": [
    "#random walker\n",
    "pre_bleach=arr_list_stb[0]\n",
    "smoothened = filters.median(pre_bleach.astype('uint16'),np.ones((4,4)))\n",
    "markers = np.zeros(smoothened.shape, dtype=np.uint)\n",
    "markers[smoothened < filters.threshold_otsu(smoothened)] = 1\n",
    "markers[smoothened > filters.threshold_otsu(smoothened)] = 2\n",
    "labels = random_walker(smoothened, markers, beta=10, mode='bf')\n",
    "regions= measure.label(labels)\n",
    "# plt.imshow(regions,cmap='jet')\n",
    "label_objects, nb_labels = ndi.label(regions)\n",
    "sizes = np.bincount(label_objects.ravel())\n",
    "mask_sizes = sizes > 100\n",
    "mask_sizes[0] = 0\n",
    "regions_cleaned = mask_sizes[label_objects]"
   ]
  },
  {
   "cell_type": "code",
   "execution_count": null,
   "metadata": {
    "collapsed": false,
    "scrolled": true
   },
   "outputs": [],
   "source": [
    "#watershed\n",
    "from skimage.filters import sobel\n",
    "from skimage import img_as_float\n",
    "# pre_bleach_float = img_as_float(pre_bleach.astype('float64'))\n",
    "image=pre_bleach.astype('float64')\n",
    "elevation_map = sobel(image)\n",
    "smoothened = filters.median(pre_bleach.astype('uint16'),np.ones((4,4)))\n",
    "markers = np.zeros_like(image)\n",
    "markers[smoothened < filters.threshold_otsu(smoothened)] = 1\n",
    "markers[smoothened > filters.threshold_otsu(smoothened)] = 2\n",
    "segmentation = morphology.watershed(elevation_map, markers)\n",
    "plt.imshow(segmentation, cmap=plt.cm.spectral, interpolation='nearest')"
   ]
  },
  {
   "cell_type": "code",
   "execution_count": null,
   "metadata": {
    "collapsed": false
   },
   "outputs": [],
   "source": [
    "import numpy as np\n",
    "import matplotlib.pyplot as plt\n",
    "\n",
    "from skimage import data, img_as_float,filters\n",
    "from skimage.restoration import denoise_tv_chambolle, denoise_bilateral\n",
    "\n",
    "%pylab inline\n",
    "# astro = img_as_float(data.astronaut())\n",
    "# astro = astro[220:300, 220:320]\n",
    "image=arr_list[0]\n",
    "# astro = image\n",
    "astro = image.astype('uint16')\n",
    "# astro = img_as_float(image.astype('uint16'))\n",
    "# noisy = astro + 0.6 * astro.std() * np.random.random(astro.shape)\n",
    "# noisy = np.clip(noisy, 0, 1)\n",
    "noisy = astro\n",
    "fig, ax = plt.subplots(nrows=2, ncols=3, figsize=(8, 5), sharex=True, sharey=True, subplot_kw={'adjustable':'box-forced'})\n",
    "\n",
    "plt.gray()\n",
    "\n",
    "ax[0, 0].imshow(noisy)\n",
    "ax[0, 0].axis('off')\n",
    "ax[0, 0].set_title('noisy')\n",
    "ax[0, 1].imshow(denoise_tv_chambolle(noisy, weight=0.1, multichannel=True))\n",
    "ax[0, 1].axis('off')\n",
    "ax[0, 1].set_title('TV')\n",
    "ax[0, 2].imshow(denoise_bilateral(noisy, sigma_range=0.05, sigma_spatial=15))\n",
    "ax[0, 2].axis('off')\n",
    "ax[0, 2].set_title('Bilateral')\n",
    "\n",
    "ax[1, 0].imshow(denoise_tv_chambolle(noisy, weight=0.2, multichannel=True))\n",
    "ax[1, 0].axis('off')\n",
    "ax[1, 0].set_title('(more) TV')\n",
    "ax[1, 1].imshow(denoise_bilateral(noisy, sigma_range=0.1, sigma_spatial=15))\n",
    "ax[1, 1].axis('off')\n",
    "ax[1, 1].set_title('(more) Bilateral')\n",
    "ax[1, 2].imshow(filters.median(noisy,np.ones((4,4))))\n",
    "ax[1, 2].axis('off')\n",
    "ax[1, 2].set_title('median')\n",
    "\n",
    "fig.subplots_adjust(wspace=0.02, hspace=0.2,\n",
    "                    top=0.9, bottom=0.05, left=0, right=1)\n",
    "\n",
    "plt.show()"
   ]
  },
  {
   "cell_type": "code",
   "execution_count": null,
   "metadata": {
    "collapsed": false
   },
   "outputs": [],
   "source": [
    "# import numpy as np\n",
    "# import matplotlib.pyplot as plt\n",
    "\n",
    "# from skimage import data, img_as_float,filters\n",
    "# from skimage.restoration import denoise_tv_chambolle, denoise_bilateral\n",
    "\n",
    "# %pylab inline\n",
    "# pre_bleach=arr_list_stb[0]\n",
    "pre_bleach=pre_bleach_A16\n",
    "denoised=restoration.denoise_bilateral(pre_bleach.astype('uint16'), sigma_range=0.01, sigma_spatial=15)\n",
    "smoothened = filters.median(denoised,np.ones((4,4)))\n",
    "markers = np.zeros(smoothened.shape, dtype=np.uint)\n",
    "markers[smoothened < filters.threshold_otsu(smoothened)] = 1\n",
    "markers[smoothened > filters.threshold_otsu(smoothened)] = 2\n",
    "labels = random_walker(smoothened, markers, beta=10, mode='bf')\n",
    "regions= measure.label(labels)\n",
    "props = measure.regionprops(regions,arr_list[0]) #ref\n",
    "regions_areas=np.array([prop.area  for prop in props])\n",
    "regions_means=np.array([prop.mean_intensity  for prop in props])\n",
    "regions_lbls =np.array([prop.label for prop in props])\n",
    "regions_index_large=np.where((regions_areas<10000) & (regions_areas>200) & (regions_means>3000))[0]\n",
    "regions_lbls_large=regions_lbls[regions_index_large] \n",
    "regions_large=np.zeros((regions.shape), dtype=bool)\n",
    "for i in regions_lbls_large:\n",
    "    booli = (regions == i) \n",
    "    regions_large=np.logical_or(regions_large,booli)\n",
    "plt.figure(figsize=(18, 5))\n",
    "ax1=plt.subplot(1,4,1)\n",
    "ax1.imshow(pre_bleach)\n",
    "ax2=plt.subplot(1,4,2)\n",
    "ax2.imshow(smoothened)\n",
    "ax3=plt.subplot(1,4,3)\n",
    "ax3.imshow(regions,cmap='spectral')\n",
    "ax4=plt.subplot(1,4,4)\n",
    "ax4.imshow(regions_large,cmap='spectral')"
   ]
  },
  {
   "cell_type": "code",
   "execution_count": null,
   "metadata": {
    "collapsed": false
   },
   "outputs": [],
   "source": [
    "len(regions_index_large)"
   ]
  },
  {
   "cell_type": "code",
   "execution_count": null,
   "metadata": {
    "collapsed": true
   },
   "outputs": [],
   "source": [
    "# pre_bleach_A03=pre_bleach\n",
    "# pre_bleach_P20=arr_list_stb[0]\n",
    "# pre_bleach_A15=arr_list_stb[0]\n",
    "# pre_bleach_A16=arr_list_stb[0]\n",
    "pre_bleach_C03=arr_list_stb[0]"
   ]
  }
 ],
 "metadata": {
  "kernelspec": {
   "display_name": "Python 2",
   "language": "python",
   "name": "python2"
  },
  "language_info": {
   "codemirror_mode": {
    "name": "ipython",
    "version": 2
   },
   "file_extension": ".py",
   "mimetype": "text/x-python",
   "name": "python",
   "nbconvert_exporter": "python",
   "pygments_lexer": "ipython2",
   "version": "2.7.9"
  }
 },
 "nbformat": 4,
 "nbformat_minor": 0
}
