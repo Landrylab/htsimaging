{
 "cells": [
  {
   "cell_type": "code",
   "execution_count": 1,
   "metadata": {
    "collapsed": true
   },
   "outputs": [],
   "source": [
    "import nd2reader\n",
    "import pandas as pd\n",
    "import string\n",
    "import numpy as np\n",
    "from scipy import stats\n",
    "import os\n",
    "from multiprocessing import Pool\n",
    "from os.path import splitext,basename\n",
    "import cv2\n",
    "from skimage.segmentation import random_walker\n",
    "# from skimage.data import binary_blobs\n",
    "from skimage import io,exposure,restoration,filters,morphology,measure\n",
    "import matplotlib.animation as animation\n",
    "import matplotlib.pyplot as plt"
   ]
  },
  {
   "cell_type": "code",
   "execution_count": 2,
   "metadata": {
    "collapsed": false
   },
   "outputs": [],
   "source": [
    "def nd2arr_list(nd_dh,nd_fns):\n",
    "    arr_list=[]\n",
    "    for nd_fn in nd_fns:\n",
    "        nd = nd2reader.Nd2(\"%s/%s\" % (nd_dh,nd_fn))\n",
    "        for ndi in nd:\n",
    "            arr_list.append(np.array(ndi))\n",
    "        del nd\n",
    "    return arr_list\n",
    "\n",
    "def nd2vid(nd_fns,nd_dh):\n",
    "    def arr_list2vid(arr_list,vid_fh):\n",
    "        dpi = 100\n",
    "        xpixels, ypixels = 512, 512\n",
    "        fig = plt.figure(figsize=(ypixels/dpi, xpixels/dpi), dpi=dpi)\n",
    "        ax = plt.Axes(fig, [0., 0., 1, 1])\n",
    "        fig.add_axes(ax)\n",
    "        ax.set_axis_off()\n",
    "        ax.set_aspect('equal')\n",
    "        im = ax.imshow(arr_list[0],cmap='gray')\n",
    "        # plt.savefig('test.png')\n",
    "        def update_img(n):\n",
    "            tmp = arr_list[n]\n",
    "            im.set_data(tmp)\n",
    "            return im\n",
    "        # #legend(loc=0)\n",
    "        ani = animation.FuncAnimation(fig,update_img,np.arange(1,len(arr_list)),interval=60,blit=False)\n",
    "        writer = animation.writers['ffmpeg'](fps=4)\n",
    "        ani.save(vid_fh,writer=writer)#dpi=dpi\n",
    "    arr_list=nd2arr_list(nd_dh,nd_fns)\n",
    "    arr_list2vid(arr_list,fh_xls+'.mp4')\n",
    "    \n",
    "def nd2kins(nd_fns,nd_dh):\n",
    "    def raw2phasecorr(arr_list):\n",
    "        cx = 0.0\n",
    "        cy = 0.0\n",
    "        stb_arr_list=[]\n",
    "        prev_image = np.float32(arr_list[0]) #ref\n",
    "        for frame in arr_list:\n",
    "            image = np.float32(frame)\n",
    "            # TODO: set window around phase correlation\n",
    "            dp = cv2.phaseCorrelate(prev_image, image)\n",
    "            cx = cx - dp[0]\n",
    "            cy = cy - dp[1]\n",
    "            xform = np.float32([[1, 0, cx], [0, 1, cy]])\n",
    "            stable_image = cv2.warpAffine(image, xform, dsize=(image.shape[1], image.shape[0]))\n",
    "            prev_image = image\n",
    "            #clip sides\n",
    "            ht,wd=np.shape(stable_image)\n",
    "            clip=0.25\n",
    "            lt=int(wd*clip)\n",
    "            rt=int(wd-wd*clip)\n",
    "            up=int(ht*clip)\n",
    "            dw=int(ht-ht*clip)\n",
    "            stable_image_clipped=stable_image[up:dw,lt:rt]\n",
    "            stb_arr_list.append(stable_image_clipped)\n",
    "        return stb_arr_list\n",
    "\n",
    "    def arr_list2kins(arr_list):\n",
    "        pre_bleach=arr_list[0]\n",
    "        smoothened = filters.median(pre_bleach.astype('uint16'),np.ones((10,10)))\n",
    "        markers = np.zeros(smoothened.shape, dtype=np.uint)\n",
    "        markers[smoothened < filters.threshold_otsu(smoothened)] = 1\n",
    "        markers[smoothened > filters.threshold_otsu(smoothened)] = 2\n",
    "        labels = random_walker(smoothened, markers, beta=10, mode='bf')\n",
    "        regions=measure.label(labels)\n",
    "        props = measure.regionprops(regions,arr_list[0]) #ref\n",
    "        regions_areas=np.array([prop.area for prop in props])\n",
    "        regions_index_large=np.where((regions_areas<5000) & (regions_areas>200))[0]\n",
    "    #     return regions_index_large\n",
    "    #     kins_mean=pd.DataFrame(index=regions_index_large, columns=range(len(arr_list)))\n",
    "        kins_mean=pd.DataFrame(columns=regions_index_large, index=range(len(arr_list)))\n",
    "    #     print kins_mean.shape\n",
    "        for i in range(len(arr_list)):\n",
    "            props = measure.regionprops(regions,arr_list[i])\n",
    "            means=np.array([prop.mean_intensity for prop in props])\n",
    "    #         kins_mean.loc[:,i]=means[regions_index_large]\n",
    "            kins_mean.loc[i,:]=means[regions_index_large]\n",
    "    #         print np.shape(means[regions_index_large])\n",
    "            del props\n",
    "        kins_mean=kins_mean.loc[:, ~(kins_mean < 2000).any(axis=0)]\n",
    "        return kins_mean.mean(axis=1)\n",
    "\n",
    "    arr_list=nd2arr_list(nd_dh,nd_fns)\n",
    "    stb_arr_list=raw2phasecorr(arr_list)\n",
    "    kins_mean=arr_list2kins(stb_arr_list)\n",
    "    return kins_mean"
   ]
  },
  {
   "cell_type": "code",
   "execution_count": 301,
   "metadata": {
    "collapsed": false
   },
   "outputs": [],
   "source": [
    "#../tests/test.xlsx\n",
    "fh_xls='../test/test.xlsx'\n",
    "data_job=pd.read_excel(fh_xls,'JobView')\n",
    "nd_dh=\"/media/Transcend/20160219_000356_267\"\n",
    "data_fns=pd.pivot_table(data_job,values='File Name',index='Loop_bleach Index',columns='Well Name', aggfunc=lambda x: x.iloc[0])\n",
    "data_fns_P =pd.pivot_table(data_job,values='File Name',index='TimeLapse1 Index',columns='Well Name', aggfunc=lambda x: x.iloc[0])\n",
    "data_fns   =pd.concat([data_fns,data_fns_P],axis=0)\n",
    "\n",
    "wells=[str(x) for x in list(data_job['Well Name'].unique())]\n",
    "wells.sort()\n",
    "wells_b, wells_u =wells[::2],wells[1::2]"
   ]
  },
  {
   "cell_type": "code",
   "execution_count": 3,
   "metadata": {
    "collapsed": false
   },
   "outputs": [
    {
     "ename": "NameError",
     "evalue": "name 'wells' is not defined",
     "output_type": "error",
     "traceback": [
      "\u001b[1;31m---------------------------------------------------------------------------\u001b[0m",
      "\u001b[1;31mNameError\u001b[0m                                 Traceback (most recent call last)",
      "\u001b[1;32m<ipython-input-3-63ff12780a31>\u001b[0m in \u001b[0;36m<module>\u001b[1;34m()\u001b[0m\n\u001b[0;32m      6\u001b[0m \u001b[0mpt00s_all\u001b[0m\u001b[1;33m[\u001b[0m\u001b[1;33m:\u001b[0m\u001b[1;33m:\u001b[0m\u001b[1;36m2\u001b[0m\u001b[1;33m]\u001b[0m\u001b[1;33m=\u001b[0m\u001b[0mpt00s\u001b[0m\u001b[1;33m\u001b[0m\u001b[0m\n\u001b[0;32m      7\u001b[0m \u001b[0mpt00s_all\u001b[0m\u001b[1;33m[\u001b[0m\u001b[1;36m1\u001b[0m\u001b[1;33m:\u001b[0m\u001b[1;33m:\u001b[0m\u001b[1;36m2\u001b[0m\u001b[1;33m]\u001b[0m\u001b[1;33m=\u001b[0m\u001b[0mpt00s\u001b[0m\u001b[1;33m\u001b[0m\u001b[0m\n\u001b[1;32m----> 8\u001b[1;33m \u001b[0minfo_pt00s\u001b[0m\u001b[1;33m=\u001b[0m\u001b[0mpd\u001b[0m\u001b[1;33m.\u001b[0m\u001b[0mDataFrame\u001b[0m\u001b[1;33m(\u001b[0m\u001b[1;33m{\u001b[0m\u001b[1;34m'well'\u001b[0m \u001b[1;33m:\u001b[0m \u001b[0mwells\u001b[0m\u001b[1;33m,\u001b[0m                         \u001b[1;34m'pt00'\u001b[0m\u001b[1;33m:\u001b[0m \u001b[0mpt00s_all\u001b[0m\u001b[1;33m}\u001b[0m\u001b[1;33m)\u001b[0m\u001b[1;33m\u001b[0m\u001b[0m\n\u001b[0m\u001b[0;32m      9\u001b[0m \u001b[0minfo_pt00s\u001b[0m\u001b[1;33m=\u001b[0m\u001b[0minfo_pt00s\u001b[0m\u001b[1;33m.\u001b[0m\u001b[0mset_index\u001b[0m\u001b[1;33m(\u001b[0m\u001b[1;34m'well'\u001b[0m\u001b[1;33m)\u001b[0m\u001b[1;33m\u001b[0m\u001b[0m\n\u001b[0;32m     10\u001b[0m \u001b[0mtime\u001b[0m\u001b[1;33m=\u001b[0m\u001b[0mnp\u001b[0m\u001b[1;33m.\u001b[0m\u001b[0marray\u001b[0m\u001b[1;33m(\u001b[0m\u001b[0mrange\u001b[0m\u001b[1;33m(\u001b[0m\u001b[1;36m12\u001b[0m\u001b[1;33m)\u001b[0m\u001b[1;33m)\u001b[0m\u001b[1;33m*\u001b[0m\u001b[1;36m2\u001b[0m\u001b[1;33m\u001b[0m\u001b[0m\n",
      "\u001b[1;31mNameError\u001b[0m: name 'wells' is not defined"
     ]
    }
   ],
   "source": [
    "pt00s=range(24)\n",
    "for rowi in range(2,16):\n",
    "    for coli in range(12):\n",
    "        pt00s.append(coli) \n",
    "pt00s_all=[None] * 384        \n",
    "pt00s_all[::2]=pt00s\n",
    "pt00s_all[1::2]=pt00s\n",
    "info_pt00s=pd.DataFrame({'well' : wells, \\\n",
    "                        'pt00': pt00s_all})\n",
    "info_pt00s=info_pt00s.set_index('well')\n",
    "time=np.array(range(12))*2\n",
    "# data_num=pd.DataFrame(columns=wells)\n",
    "# data_num.loc[:,'time']=time\n",
    "data_num_kin=pd.DataFrame(columns=wells)\n",
    "data_num_kin.loc[:,'time']=time\n",
    "diff_df=pd.DataFrame(columns=wells_b)\n",
    "diff_df.loc[:,'time']=time\n",
    "diff_fitted_df=pd.DataFrame(columns=wells_b)\n",
    "diff_fitted_df.loc[:,'time']=time\n",
    "rateofrecov_df=pd.DataFrame(index=wells_b,columns=['rateofrecov'])\n",
    "rateofrecov_df.index.name='smp_well'"
   ]
  },
  {
   "cell_type": "code",
   "execution_count": 303,
   "metadata": {
    "collapsed": false
   },
   "outputs": [],
   "source": [
    "for well in wells:\n",
    "#     nd_fns=np.sort(data_fns[well].dropna().unique())\n",
    "    nd_fns=data_fns[well].dropna().unique()\n",
    "    well_kin=nd2kins(nd_fns,nd_dh)\n",
    "    if not pd.isnull(info_pt00s.loc[well])[0]:\n",
    "        pt00=int(info_pt00s.loc[well])\n",
    "        data_num_kin[well]=well_kin[pt00:pt00+12].values\n",
    "    else :   \n",
    "        data_num_kin[well]=well_kin[0:12].values\n",
    "# data_num.to_csv('test_data_num.csv')"
   ]
  },
  {
   "cell_type": "code",
   "execution_count": 307,
   "metadata": {
    "collapsed": true
   },
   "outputs": [],
   "source": [
    "def data_num_kin2diff(data_num,b_well,u_well):    \n",
    "    b_data =data_num.loc[:,b_well]\n",
    "    u_data =data_num.loc[:,u_well]\n",
    "    otpt_diff=np.log(u_data/b_data)\n",
    "    return otpt_diff"
   ]
  },
  {
   "cell_type": "code",
   "execution_count": 314,
   "metadata": {
    "collapsed": true
   },
   "outputs": [],
   "source": [
    "def getrateofrecov(x,y):\n",
    "    otpt_diff_fitted=pd.Series(index=range(len(x)))\n",
    "    for totpts in range(12,4,-1):\n",
    "        slope, intercept, r_value, p_value, slope_std_error = stats.linregress(x[:totpts], y[:totpts])\n",
    "        #print r_value\n",
    "        if r_value < -0.85:\n",
    "            predict_y = intercept + slope * x[:totpts]\n",
    "            otpt_diff_fitted=predict_y\n",
    "            slope=slope\n",
    "            break\n",
    "        else:\n",
    "            slope=np.nan\n",
    "    #alpha=stats.linregress(x,y)\n",
    "    return slope,otpt_diff_fitted"
   ]
  },
  {
   "cell_type": "code",
   "execution_count": 319,
   "metadata": {
    "collapsed": false
   },
   "outputs": [],
   "source": [
    "def data_job2kin(data_num_kin,wells,wells_b,wells_u): #num_type mode, mean, meadian\n",
    "    for welli in range(len(wells_b)):\n",
    "        print wells_b[welli]\n",
    "        diff_df.loc[:,wells_b[welli]]  =data_num_kin2diff(data_num,wells_b[welli],wells_u[welli])\n",
    "    for welli in range(len(wells_b)): # get rate of recov\n",
    "        rateofrecov_df.loc[wells_b[welli],'rateofrecov'] =getrateofrecov(diff_df.loc[:,'time'],diff_df.loc[:,wells_b[welli]])[0]        \n",
    "        diff_fitted_df.loc[:,wells_b[welli]]             =getrateofrecov(diff_df.loc[:,'time'],diff_df.loc[:,wells_b[welli]])[1]\n",
    "    wells_rows=['A','B','C','D','E','F','G','H','I','J','K','L','M','N','O','P']\n",
    "    wells_rows_ctrl, wells_rows_test =wells_rows[::2],wells_rows[1::2] # odd,even\n",
    "    rateofrecov_df.to_csv(\"%s.rateofrecov\" % (fh_xls))\t    \n",
    "    rateofrecov_df=rateofrecov_df.reset_index()    \n",
    "    lbls=pd.read_excel(fh_xls,'lbls')\n",
    "    for s in wells_rows_ctrl:\n",
    "        rateofrecov_df.loc[(rateofrecov_df.smp_well.astype(str).str.contains(s)),'smp_type']=str(lbls.ix[0,0])\n",
    "    for s in wells_rows_test:\n",
    "        rateofrecov_df.loc[(rateofrecov_df.smp_well.astype(str).str.contains(s)),'smp_type']=str(lbls.ix[1,0])\n",
    "    smpi=[]\n",
    "    for rowi in range(1,9):\n",
    "        for i in list(np.array(range(1,13))+12*(rowi-1)):\n",
    "            smpi.append(i)\n",
    "        for i in list(np.array(range(1,13))+12*(rowi-1)):\n",
    "            smpi.append(i)\n",
    "    len(smpi)\n",
    "    len(rateofrecov_df)\n",
    "    rateofrecov_df['smpi']=smpi\n",
    "    rateofrecov_df['rateofrecov']=rateofrecov_df['rateofrecov'].astype(float)\n",
    "    rateofrecov_per_smpi_df=pd.pivot_table(rateofrecov_df,values='rateofrecov',index='smpi',columns='smp_type')\n",
    "    rateofrecov_per_smpi_df=rateofrecov_per_smpi_df.reset_index()\n",
    "    rateofrecov_per_smpi_df=rateofrecov_per_smpi_df.reset_index()\n",
    "    del rateofrecov_per_smpi_df.columns.name\n",
    "\n",
    "    info_genes_df=pd.read_excel('/home/kclabws1/Documents/propro/writ/prjs/2_chem_chap_screens/data/data_sampling_yeast_gfp_genes/data/160208_corrected_smpi/151217_final_list90_data.xls')\n",
    "    combo=pd.concat([info_genes_df,rateofrecov_per_smpi_df],axis=1)\n",
    "\n",
    "    data_num_kin.to_csv(\"%s.data_num_kin\" % (fh_xls))\n",
    "    diff_df.to_csv(\"%s.diff_df\" % (fh_xls))  \n",
    "    diff_fitted_df.to_csv(\"%s.diff_fitted_df\" % (fh_xls))\n",
    "    rateofrecov_per_smpi_df.to_csv(\"%s.rateofrecov_per_smpi_df\" % (fh_xls))\n",
    "    combo.to_csv(\"%s.combo\" % (fh_xls))\n"
   ]
  },
  {
   "cell_type": "code",
   "execution_count": 311,
   "metadata": {
    "collapsed": false
   },
   "outputs": [
    {
     "data": {
      "text/plain": [
       "[12, 11, 10, 9, 8, 7, 6, 5]"
      ]
     },
     "execution_count": 311,
     "metadata": {},
     "output_type": "execute_result"
    }
   ],
   "source": []
  },
  {
   "cell_type": "code",
   "execution_count": null,
   "metadata": {
    "collapsed": false
   },
   "outputs": [],
   "source": []
  },
  {
   "cell_type": "code",
   "execution_count": 191,
   "metadata": {
    "collapsed": true
   },
   "outputs": [],
   "source": [
    "import matplotlib.pyplot as plt\n",
    "%matplotlib inline\n",
    "from pylab import *"
   ]
  },
  {
   "cell_type": "code",
   "execution_count": 117,
   "metadata": {
    "collapsed": false
   },
   "outputs": [],
   "source": [
    "#A05\n",
    "fh_xls='/home/kclabws1/Documents/propro/writ/prjs/2_chem_chap_screens/data/yeast_gfp_half_life/data/160305_bleachto60ormore/160305_bleach10minA05.xlsx'\n",
    "nd_dh='/home/kclabws1/Documents/propro/writ/prjs/2_chem_chap_screens/data/yeast_gfp_half_life/data/160305_bleachto60ormore/160305_bleachchase_bleach10min/20160305_195134_052'\n",
    "nd2kins(fh_xls,nd_dh)\n",
    "\n",
    "#A06\n",
    "fh_xls='/home/kclabws1/Documents/propro/writ/prjs/2_chem_chap_screens/data/yeast_gfp_half_life/data/160305_bleachto60ormore/160305_bleach10minA06.xlsx'\n",
    "nd_dh='/home/kclabws1/Documents/propro/writ/prjs/2_chem_chap_screens/data/yeast_gfp_half_life/data/160305_bleachto60ormore/160305_bleachchase_bleach10min/20160305_214147_192'\n",
    "nd2kins(fh_xls,nd_dh)\n",
    "\n",
    "#B05\n",
    "fh_xls='/home/kclabws1/Documents/propro/writ/prjs/2_chem_chap_screens/data/yeast_gfp_half_life/data/160305_bleachto60ormore/160305_bleach10minB05.xlsx'\n",
    "nd_dh='/home/kclabws1/Documents/propro/writ/prjs/2_chem_chap_screens/data/yeast_gfp_half_life/data/160305_bleachto60ormore/160305_bleachchase_bleach10min/20160305_225111_210'\n",
    "nd2kins(fh_xls,nd_dh)\n",
    "\n",
    "#B06\n",
    "fh_xls='../../../data/yeast_gfp_half_life/data/160305_bleachto60ormore/160305_bleach10minB06.xlsx'\n",
    "nd_dh='../../../data/yeast_gfp_half_life/data/160305_bleachto60ormore/160305_bleachchase_bleach10min/20160305_234331_875'\n",
    "data_job=pd.read_excel(fh_xls,'JobView')\n",
    "nd_fns=np.sort(data_job['File Name'].unique())\n",
    "# nd2kins(nd_fns,nd_dh)\n",
    "nd2vid(nd_fns,nd_dh)"
   ]
  },
  {
   "cell_type": "code",
   "execution_count": 10,
   "metadata": {
    "collapsed": true
   },
   "outputs": [],
   "source": [
    "nd_dh='/media/Transcend/160309_sdsd_replicates'\n",
    "nd_fns=''\n",
    "wells=['A01','A02','A03','A04','A05','A06','A07','A08','A09','A10','A11','A12','A13','A14','A15','A16','A17','A18','A19','A20','A21','A22','A23','A24',\n",
    "'B01','B02','B03','B04','B05','B06','B07','B08','B09','B10','B11','B12','B13','B14','B15','B16','B17','B18','B19','B20','B21','B22','B23','B24']\n",
    "data_num_kin=pd.DataFrame(columns=wells)"
   ]
  },
  {
   "cell_type": "code",
   "execution_count": 17,
   "metadata": {
    "collapsed": false
   },
   "outputs": [
    {
     "name": "stderr",
     "output_type": "stream",
     "text": [
      "/home/kclabws1/Enthought/Canopy_64bit/User/lib/python2.7/site-packages/skimage/filters/rank/generic.py:68: UserWarning: Bitdepth of 12 may result in bad rank filter performance due to large number of bins.\n",
      "  \"performance due to large number of bins.\" % bitdepth)\n",
      "/home/kclabws1/Enthought/Canopy_64bit/User/lib/python2.7/site-packages/skimage/filters/rank/generic.py:68: UserWarning: Bitdepth of 13 may result in bad rank filter performance due to large number of bins.\n",
      "  \"performance due to large number of bins.\" % bitdepth)\n"
     ]
    }
   ],
   "source": [
    "import glob\n",
    "for well in wells:\n",
    "    nd_fns=np.sort(glob.glob(\"%s/*%s*\" % (nd_dh,well)))\n",
    "    nd_fns=[os.path.basename(fn) for fn in nd_fns]\n",
    "    data_num_kin[well]=nd2kins(nd_fns,nd_dh)\n",
    "    "
   ]
  },
  {
   "cell_type": "code",
   "execution_count": 15,
   "metadata": {
    "collapsed": false
   },
   "outputs": [],
   "source": [
    "nd_fns=np.sort(glob.glob(\"%s/*%s*\" % (nd_dh,well)))"
   ]
  },
  {
   "cell_type": "code",
   "execution_count": 19,
   "metadata": {
    "collapsed": false
   },
   "outputs": [],
   "source": [
    "data_num_kin.to_csv('test.csv')"
   ]
  },
  {
   "cell_type": "code",
   "execution_count": null,
   "metadata": {
    "collapsed": true
   },
   "outputs": [],
   "source": []
  }
 ],
 "metadata": {
  "kernelspec": {
   "display_name": "Python 2",
   "language": "python",
   "name": "python2"
  },
  "language_info": {
   "codemirror_mode": {
    "name": "ipython",
    "version": 2
   },
   "file_extension": ".py",
   "mimetype": "text/x-python",
   "name": "python",
   "nbconvert_exporter": "python",
   "pygments_lexer": "ipython2",
   "version": "2.7.9"
  }
 },
 "nbformat": 4,
 "nbformat_minor": 0
}
