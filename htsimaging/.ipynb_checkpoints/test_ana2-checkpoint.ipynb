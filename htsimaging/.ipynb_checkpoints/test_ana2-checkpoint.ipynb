{
 "cells": [
  {
   "cell_type": "code",
   "execution_count": 41,
   "metadata": {
    "collapsed": true
   },
   "outputs": [],
   "source": [
    "import sys\n",
    "import pandas as pd\n",
    "import string\n",
    "import numpy as np\n",
    "from scipy import stats\n",
    "import os\n",
    "from multiprocessing import Pool\n",
    "from os.path import splitext,basename,exists\n",
    "\n",
    "data_xls_fh='../test/test.xlsx'\n",
    "info=pd.read_excel(data_xls_fh,'info')\n",
    "info=info.set_index('varname')\n",
    "for var in info.iterrows():\n",
    "    val=info['input'][var[0]]\n",
    "    #print var[0]\n",
    "    if not pd.isnull(val):\n",
    "        exec(\"%s=info['input']['%s']\" % (var[0],var[0]))\n",
    "    else:\n",
    "        exec(\"%s=info['default']['%s']\" % (var[0],var[0]))\n",
    "\n",
    "data_job=pd.read_excel(data_xls_fh,'JobView')\n",
    "data_job_del_cols=[str(s) for s in data_job.columns if 'Intensity' in str(s) ]\n",
    "for col in data_job_del_cols:\n",
    "    exec(\"del data_job['%s']\" % col,locals(), globals())\n",
    "\n",
    "nd_fns =[str(s) for s in data_job['File Name'].tolist()]\n",
    "frameis=[int(s) for s in data_job['File Frame Index'].tolist()]\n",
    "\n",
    "csv_fhs =[]\n",
    "nums_fhs=[]\n",
    "nd_fn_framei_tps=[]\n",
    "for i in range(len(nd_fns)):\n",
    "    csv_fhs.append(\"%s/%s%02d.csv\" % (nd_dh,nd_fns[i],frameis[i]))\n",
    "    nums_fhs.append(\"%s/%s%02d.csv.nums\" % (nd_dh,nd_fns[i],frameis[i]))\n",
    "    nd_fn_framei_tps.append([nd_fns[i],frameis[i]])\n",
    "\n",
    "    #       csv2nums(nd_fns_frameis_tps[0])\n"
   ]
  },
  {
   "cell_type": "code",
   "execution_count": 42,
   "metadata": {
    "collapsed": true
   },
   "outputs": [],
   "source": []
  },
  {
   "cell_type": "code",
   "execution_count": 46,
   "metadata": {
    "collapsed": true
   },
   "outputs": [],
   "source": [
    "def csv2nums(csv_fh):\n",
    "    nums_fh=csv_fh+\".nums\"    \n",
    "    if exists(csv_fh):# and (not exists(nums_fh)) :\n",
    "        print \">>> STATUS  : processing : %s\" % csv_fh \n",
    "        arr=np.genfromtxt(csv_fh,delimiter=',')\n",
    "        vec=np.concatenate(arr)\n",
    "        nums=pd.DataFrame()\n",
    "        \n",
    "        nums.loc[0,'mode']=stats.mode(vec)[0][0]\n",
    "        nums.loc[0,'mean']=np.mean(vec)\n",
    "        nums.loc[0,'median']=np.median(vec)\n",
    "        # vec = vec\n",
    "        # vec = vec[~np.isnan(vec)]\n",
    "        # vec = vec[~np.isinf(vec)]\n",
    "        try:\n",
    "            argsGumbel0 = gumbel_r.fit(vec)\n",
    "            bins = np.arange(0, 5000, 50)#np.arange(5000)\n",
    "            probs, binedges = np.histogram(vec, bins=bins, normed=True)\n",
    "            bincenters = 0.5*(binedges[1:]+binedges[:-1])\n",
    "            argsGumbel1 = curve_fit(gumbel_r.pdf, bincenters, probs, p0=argsGumbel0)[0]\n",
    "            nums.loc[0,'peak']=argsGumbel1[0]\n",
    "        except:\n",
    "            nums.loc[0,'peak']=np.nan\n",
    "        \n",
    "        # Thresholding\n",
    "        dw_threshold=2000\n",
    "        up_threshold=5000\n",
    "        vec = vec[vec>dw_threshold]\n",
    "        vec = vec[vec<up_threshold]\n",
    "\n",
    "        nums.loc[0,'mode_thr']=stats.mode(vec)[0][0]\n",
    "        nums.loc[0,'mean_thr']=np.mean(vec)\n",
    "        nums.loc[0,'median_thr']=np.median(vec)\n",
    "        # vec = vec\n",
    "        # vec = vec[~np.isnan(vec)]\n",
    "        # vec = vec[~np.isinf(vec)]\n",
    "        try:\n",
    "            argsGumbel0 = gumbel_r.fit(vec)\n",
    "            bins = np.arange(0, 5000, 50)#np.arange(5000)\n",
    "            probs, binedges = np.histogram(vec, bins=bins, normed=True)\n",
    "            bincenters = 0.5*(binedges[1:]+binedges[:-1])\n",
    "            argsGumbel1 = curve_fit(gumbel_r.pdf, bincenters, probs, p0=argsGumbel0)[0]\n",
    "            nums.loc[0,'peak_thr']=argsGumbel1[0]\n",
    "        except:\n",
    "            nums.loc[0,'peak_thr']=np.nan\n",
    "        \n",
    "        nums.to_csv(nums_fh)\n",
    "    else:\n",
    "        print \">>> WARNING   : skipping : %s\" % csv_fh\n"
   ]
  },
  {
   "cell_type": "code",
   "execution_count": 56,
   "metadata": {
    "collapsed": false
   },
   "outputs": [
    {
     "data": {
      "image/png": "[encoded data removed]",
      "text/plain": [
       "<matplotlib.figure.Figure at 0x7f0d8e5fc350>"
      ]
     },
     "metadata": {},
     "output_type": "display_data"
    }
   ],
   "source": [
    "csv_fh=csv_fhs[1]\n",
    "arr=np.genfromtxt(csv_fh,delimiter=',')\n",
    "vec=np.concatenate(arr)\n",
    "nums=pd.DataFrame()\n",
    "nums.loc[0,'mode']=stats.mode(vec)[0][0]\n",
    "nums.loc[0,'mean']=np.mean(vec)\n",
    "nums.loc[0,'median']=np.median(vec)\n",
    "\n",
    "from scipy.optimize import curve_fit\n",
    "from scipy.stats import norm #gumbel_r\n",
    "import matplotlib.pyplot as plt\n",
    "%matplotlib inline\n",
    "# # amps = np.loadtxt(\"pyr_11.txt\")*-1000 # http://pastebin.com/raw.php?i=uPK31JGE\n",
    "# amps = vec\n",
    "# # amps = amps[~np.isnan(amps)]\n",
    "# # amps = amps[~np.isinf(amps)]\n",
    "# argsGumbel0 = gumbel_r.fit(amps)\n",
    "# # argsGauss0 = norm.fit(amps)\n",
    "# bins = np.arange(0, 5000, 50)#np.arange(5000)\n",
    "# probs, binedges = np.histogram(amps, bins=bins, normed=True)\n",
    "# bincenters = 0.5*(binedges[1:]+binedges[:-1])\n",
    "# argsGumbel1 = curve_fit(gumbel_r.pdf, bincenters, probs, p0=argsGumbel0)[0]\n",
    "# # argsGauss1 = curve_fit(norm.pdf, bincenters, probs, p0=argsGauss0)[0]\n",
    "\n",
    "argsGumbel0 = gumbel_r.fit(vec)\n",
    "bins = np.arange(0, 5000, 50)#np.arange(5000)\n",
    "probs, binedges = np.histogram(vec, bins=bins, normed=True)\n",
    "bincenters = 0.5*(binedges[1:]+binedges[:-1])\n",
    "argsGumbel1 = curve_fit(gumbel_r.pdf, bincenters, probs, p0=argsGumbel0)[0]\n",
    "nums.loc[0,'peak']=argsGumbel1[0]\n",
    "argsGumbel1[0]\n",
    "\n",
    "plt.figure()\n",
    "plt.hist(amps, bins=bins, normed=True, color='0.5')\n",
    "xes = bincenters#np.arange(0, 5000, 50)\n",
    "# # plt.plot(xes, gumbel_r.pdf(xes, *argsGumbel0), linewidth=2, label='Gumbel, maximum likelihood')\n",
    "plt.plot(xes, gumbel_r.pdf(xes, *argsGumbel1), linewidth=2, label='Gumbel, least squares')\n",
    "# # plt.plot(xes, norm.pdf(xes, *argsGauss0), linewidth=2, label='Gauss, maximum likelihood')\n",
    "# # plt.plot(xes, norm.pdf(xes, *argsGauss1), linewidth=2, label='Gauss, least squares')\n",
    "plt.legend(loc='upper right')\n",
    "plt.show()"
   ]
  },
  {
   "cell_type": "code",
   "execution_count": 53,
   "metadata": {
    "collapsed": false,
    "scrolled": true
   },
   "outputs": [
    {
     "data": {
      "text/plain": [
       "1434.7421100980446"
      ]
     },
     "execution_count": 53,
     "metadata": {},
     "output_type": "execute_result"
    }
   ],
   "source": []
  },
  {
   "cell_type": "code",
   "execution_count": 50,
   "metadata": {
    "collapsed": false,
    "scrolled": true
   },
   "outputs": [
    {
     "name": "stdout",
     "output_type": "stream",
     "text": [
      ">>> STATUS  : processing : /media/Transcend/20160219_000356_267/WellA01_WellA01_Seq0344.nd200.csv\n"
     ]
    }
   ],
   "source": [
    "csv2nums('/media/Transcend/20160219_000356_267/WellA01_WellA01_Seq0344.nd200.csv')"
   ]
  },
  {
   "cell_type": "code",
   "execution_count": null,
   "metadata": {
    "collapsed": true
   },
   "outputs": [],
   "source": []
  },
  {
   "cell_type": "code",
   "execution_count": 2,
   "metadata": {
    "collapsed": true
   },
   "outputs": [],
   "source": [
    "    data_job.set_index(['File Name', 'File Frame Index'], inplace=True)\n",
    "    for i in range(len(nums_fhs)):  \n",
    "        nums_fh=nums_fhs[i]\n",
    "        nums_df=pd.read_csv(nums_fh)\n",
    "        nd_fn=nd_fn_framei_tps[i][0]\n",
    "        framei=nd_fn_framei_tps[i][1]\n",
    "        data_job.loc[(nd_fn,framei),'mean']  =nums_df.loc[0,'mean']\n",
    "        data_job.loc[(nd_fn,framei),'mode']  =nums_df.loc[0,'mode']\n",
    "        data_job.loc[(nd_fn,framei),'median']=nums_df.loc[0,'median']\n",
    "        data_job.loc[(nd_fn,framei),'peak']=nums_df.loc[0,'peak']\n",
    "        data_job.loc[(nd_fn,framei),'mean_thr']  =nums_df.loc[0,'mean_thr']\n",
    "        data_job.loc[(nd_fn,framei),'mode_thr']  =nums_df.loc[0,'mode_thr']\n",
    "        data_job.loc[(nd_fn,framei),'median_thr']=nums_df.loc[0,'median_thr']\n",
    "        data_job.loc[(nd_fn,framei),'peak_thr']=nums_df.loc[0,'peak_thr']\n",
    "\n",
    "    data_job=data_job.reset_index()\n",
    "    data_job.to_csv(data_xls_fh+\".nums\")      "
   ]
  },
  {
   "cell_type": "code",
   "execution_count": null,
   "metadata": {
    "collapsed": true
   },
   "outputs": [],
   "source": []
  }
 ],
 "metadata": {
  "kernelspec": {
   "display_name": "Python 2",
   "language": "python",
   "name": "python2"
  },
  "language_info": {
   "codemirror_mode": {
    "name": "ipython",
    "version": 2
   },
   "file_extension": ".py",
   "mimetype": "text/x-python",
   "name": "python",
   "nbconvert_exporter": "python",
   "pygments_lexer": "ipython2",
   "version": "2.7.9"
  }
 },
 "nbformat": 4,
 "nbformat_minor": 0
}
