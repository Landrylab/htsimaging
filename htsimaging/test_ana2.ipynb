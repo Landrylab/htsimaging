{
 "cells": [
  {
   "cell_type": "code",
   "execution_count": 1,
   "metadata": {
    "collapsed": true
   },
   "outputs": [],
   "source": [
    "import sys\n",
    "import pandas as pd\n",
    "import string\n",
    "import numpy as np\n",
    "from scipy import stats\n",
    "import os\n",
    "from multiprocessing import Pool\n",
    "from os.path import splitext,basename,exists\n",
    "\n",
    "data_xls_fh='../test/test.xlsx'\n",
    "info=pd.read_excel(data_xls_fh,'info')\n",
    "info=info.set_index('varname')\n",
    "for var in info.iterrows():\n",
    "    val=info['input'][var[0]]\n",
    "    #print var[0]\n",
    "    if not pd.isnull(val):\n",
    "        exec(\"%s=info['input']['%s']\" % (var[0],var[0]))\n",
    "    else:\n",
    "        exec(\"%s=info['default']['%s']\" % (var[0],var[0]))\n",
    "\n",
    "data_job=pd.read_excel(data_xls_fh,'JobView')\n",
    "data_job_del_cols=[str(s) for s in data_job.columns if 'Intensity' in str(s) ]\n",
    "for col in data_job_del_cols:\n",
    "    exec(\"del data_job['%s']\" % col,locals(), globals())\n",
    "\n",
    "nd_fns =[str(s) for s in data_job['File Name'].tolist()]\n",
    "frameis=[int(s) for s in data_job['File Frame Index'].tolist()]\n",
    "\n",
    "csv_fhs =[]\n",
    "nums_fhs=[]\n",
    "nd_fn_framei_tps=[]\n",
    "for i in range(len(nd_fns)):\n",
    "    csv_fhs.append(\"%s/%s%02d.csv\" % (nd_dh,nd_fns[i],frameis[i]))\n",
    "    nums_fhs.append(\"%s/%s%02d.csv.nums\" % (nd_dh,nd_fns[i],frameis[i]))\n",
    "    nd_fn_framei_tps.append([nd_fns[i],frameis[i]])\n",
    "\n",
    "    #       csv2nums(nd_fns_frameis_tps[0])\n"
   ]
  },
  {
   "cell_type": "code",
   "execution_count": 3,
   "metadata": {
    "collapsed": true
   },
   "outputs": [],
   "source": [
    "csv_fh=csv_fhs[0]\n",
    "arr=np.genfromtxt(csv_fh,delimiter=',')\n",
    "vec=np.concatenate(arr)\n",
    "nums=pd.DataFrame()\n",
    "nums.loc[0,'mode']=stats.mode(vec)[0][0]\n",
    "nums.loc[0,'mean']=np.mean(vec)\n",
    "nums.loc[0,'median']=np.median(vec)\n"
   ]
  },
  {
   "cell_type": "code",
   "execution_count": 25,
   "metadata": {
    "collapsed": false
   },
   "outputs": [],
   "source": [
    "from scipy.optimize import curve_fit\n",
    "from scipy.stats import norm #gumbel_r\n",
    "import matplotlib.pyplot as plt\n",
    "# amps = np.loadtxt(\"pyr_11.txt\")*-1000 # http://pastebin.com/raw.php?i=uPK31JGE\n",
    "amps = vec\n",
    "# amps = amps[~np.isnan(amps)]\n",
    "# amps = amps[~np.isinf(amps)]\n",
    "argsGumbel0 = gumbel_r.fit(amps)\n",
    "# argsGauss0 = norm.fit(amps)\n",
    "bins = np.arange(0, 5000, 50)#np.arange(5000)\n",
    "probs, binedges = np.histogram(amps, bins=bins, normed=True)\n",
    "bincenters = 0.5*(binedges[1:]+binedges[:-1])\n",
    "argsGumbel1 = curve_fit(gumbel_r.pdf, bincenters, probs, p0=argsGumbel0)[0]\n",
    "# argsGauss1 = curve_fit(norm.pdf, bincenters, probs, p0=argsGauss0)[0]\n",
    "\n",
    "# plt.figure()\n",
    "# plt.hist(amps, bins=bins, normed=True, color='0.5')\n",
    "# xes = bincenters#np.arange(0, 5000, 50)\n",
    "# # plt.plot(xes, gumbel_r.pdf(xes, *argsGumbel0), linewidth=2, label='Gumbel, maximum likelihood')\n",
    "# plt.plot(xes, gumbel_r.pdf(xes, *argsGumbel1), linewidth=2, label='Gumbel, least squares')\n",
    "# # plt.plot(xes, norm.pdf(xes, *argsGauss0), linewidth=2, label='Gauss, maximum likelihood')\n",
    "# # plt.plot(xes, norm.pdf(xes, *argsGauss1), linewidth=2, label='Gauss, least squares')\n",
    "# plt.legend(loc='upper right')\n",
    "# plt.show()\n",
    "\n"
   ]
  },
  {
   "cell_type": "code",
   "execution_count": null,
   "metadata": {
    "collapsed": false
   },
   "outputs": [],
   "source": [
    "vec = vec[4000>vec>2000]"
   ]
  },
  {
   "cell_type": "code",
   "execution_count": 34,
   "metadata": {
    "collapsed": false
   },
   "outputs": [],
   "source": [
    "tmp=np.array([2, 3 ,4, 5])\n",
    "tmp=tmp[tmp>3]\n",
    "tmp=tmp[tmp<5]\n",
    "\n"
   ]
  },
  {
   "cell_type": "code",
   "execution_count": 35,
   "metadata": {
    "collapsed": false
   },
   "outputs": [
    {
     "data": {
      "text/plain": [
       "array([4])"
      ]
     },
     "execution_count": 35,
     "metadata": {},
     "output_type": "execute_result"
    }
   ],
   "source": [
    "tmp"
   ]
  },
  {
   "cell_type": "code",
   "execution_count": null,
   "metadata": {
    "collapsed": true
   },
   "outputs": [],
   "source": []
  }
 ],
 "metadata": {
  "kernelspec": {
   "display_name": "Python 2",
   "language": "python",
   "name": "python2"
  },
  "language_info": {
   "codemirror_mode": {
    "name": "ipython",
    "version": 2
   },
   "file_extension": ".py",
   "mimetype": "text/x-python",
   "name": "python",
   "nbconvert_exporter": "python",
   "pygments_lexer": "ipython2",
   "version": "2.7.9"
  }
 },
 "nbformat": 4,
 "nbformat_minor": 0
}
