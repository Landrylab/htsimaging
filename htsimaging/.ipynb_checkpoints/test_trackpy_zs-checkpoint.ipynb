{
 "cells": [
  {
   "cell_type": "code",
   "execution_count": 64,
   "metadata": {
    "collapsed": false
   },
   "outputs": [],
   "source": [
    "from os.path import splitext, join, exists, isdir,basename,abspath,dirname\n",
    "from os import makedirs\n",
    "import trackpy as tp\n",
    "import nd2reader\n",
    "import numpy as np\n",
    "import pandas as pd\n",
    "import matplotlib.pyplot as plt\n",
    "import pims\n",
    "import pims_nd2\n",
    "from glob import glob\n",
    "import logging\n",
    "%matplotlib inline"
   ]
  },
  {
   "cell_type": "code",
   "execution_count": 65,
   "metadata": {
    "collapsed": true
   },
   "outputs": [],
   "source": [
    "@pims.pipeline\n",
    "def average_z(image):\n",
    "    return image.mean(axis=0)  # the same as image[0] + ... + image[4]\n",
    "\n",
    "def plot_msd(imsd,emsd,ax):\n",
    "    imsd.reset_index().plot(x=\"lag time [s]\",legend=None,alpha=0.75,ax=ax)\n",
    "    ax.set(ylabel=r'$\\langle \\Delta r^2 \\rangle$ [$\\mu$m$^2$]',\n",
    "           xlabel='lag time $t$')\n",
    "    ax.set_xscale('log')\n",
    "    ax.set_yscale('log')\n",
    "\n",
    "    emsd.plot(x=\"lagt\",style='o',legend=None,ax=ax)\n",
    "    ax.set_xscale('log')\n",
    "    ax.set_yscale('log')\n",
    "    ax.set(ylabel=r'$\\langle \\Delta r^2 \\rangle$ [$\\mu$m$^2$]',\n",
    "           xlabel='lag time $t$')\n",
    "    plt.tight_layout()\n",
    "    return ax\n",
    "\n",
    "def plot_emsd(expt_data,ax_emsd):\n",
    "    expt_data.plot(x=\"lagt\",style='o',ax=ax_emsd)\n",
    "    ax_emsd.set_xscale('log')\n",
    "    ax_emsd.set_yscale('log')\n",
    "    ax_emsd.set(ylabel=r'$\\langle \\Delta r^2 \\rangle$ [$\\mu$m$^2$]',\n",
    "                xlabel='lag time $t$')\n",
    "    ax_emsd.legend(loc = 'center left', bbox_to_anchor = (1.0, 0.5)) #bbox_to_anchor=(2.2, 1.0)\n",
    "    plt.tight_layout()\n",
    "\n",
    "def nd2msd(nd_fh):\n",
    "    frames=pims.ND2_Reader(nd_fh)\n",
    "    if len(np.shape(frames))==4:\n",
    "        frames = average_z(frames)\n",
    "    f_batch = tp.batch(frames,diameter=11,threshold=np.percentile(frames,75))\n",
    "\n",
    "    t = tp.link_df(f_batch, search_range=11, memory=3)\n",
    "    t_flt = tp.filter_stubs(t, 3*int(len(frames)/4))\n",
    "    try:\n",
    "        d = tp.compute_drift(t_flt)\n",
    "        t_cor = tp.subtract_drift(t_flt, d)\n",
    "    except:\n",
    "        t_cor=t_flt\n",
    "        logging.info(\"drift correction excepted\")    \n",
    "    # plt.figure()\n",
    "    # tp.plot_traj(t_flt)\n",
    "    # plt.figure()\n",
    "    # d.plot()\n",
    "    imsd=tp.imsd(t_cor,0.1,0.2, max_lagtime=100, statistic='msd')\n",
    "    emsd=tp.emsd(t_cor,0.1,0.2, max_lagtime=100)\n",
    "    return imsd,emsd\n"
   ]
  },
  {
   "cell_type": "code",
   "execution_count": 3,
   "metadata": {
    "collapsed": false
   },
   "outputs": [],
   "source": [
    "def expt2plots(expt_info,expt_dh):\n",
    "    if not exists(expt_dh):\n",
    "        makedirs(expt_dh)\n",
    "    expt_data=pd.DataFrame()    \n",
    "    for test in expt_info:\n",
    "        test_info=expt_info.loc[:,test]\n",
    "        test_data=pd.DataFrame()    \n",
    "        for rep in test_info:\n",
    "            if not pd.isnull(rep[0]):\n",
    "                repn=\"%s %s\" % (test,rep[0])\n",
    "                print repn\n",
    "                nd_fh=rep[1]\n",
    "                out_fn=splitext(basename(nd_fh))[0]\n",
    "                out_fh=expt_dh+out_fn\n",
    "                if not exists(out_fh+\".imsd.png\"):\n",
    "                    try:\n",
    "                        imsd,emsd=nd2msd(nd_fh)\n",
    "                    except:\n",
    "                        continue\n",
    "                    emsd=pd.DataFrame(emsd)\n",
    "                    emsd.columns=[repn]\n",
    "                    emsd=emsd.reset_index()\n",
    "                    imsd.to_csv(out_fh+\".imsd\")\n",
    "                    emsd.to_csv(out_fh+\".emsd\")\n",
    "\n",
    "                    fig = plt.figure(figsize=(3, 3))\n",
    "                    ax_imsd=plt.subplot(111)\n",
    "                    ax_imsd=plot_msd(imsd,emsd,ax_imsd)\n",
    "                    ax_imsd.figure.savefig(out_fh+\".imsd.png\");plt.clf();plt.close()\n",
    "                else:\n",
    "                    emsd=pd.read_csv(out_fh+\".emsd\")\n",
    "                    del emsd[\"Unnamed: 0\"]\n",
    "                if len(test_data)==0:\n",
    "                    test_data=emsd\n",
    "                else:\n",
    "        #                 test_data[repn]=emsd[repn]\n",
    "                    test_data=pd.concat([test_data,emsd[repn]],axis=1)\n",
    "            test_data.to_csv(expt_dh+test+\".emsd\")\n",
    "        if len(expt_data)==0:\n",
    "            expt_data=test_data\n",
    "        else:\n",
    "    #             expt_data.loc[:,test_data.columns.tolist()]=test_data.loc[:,test_data.columns.tolist()]\n",
    "            expt_data=pd.concat([expt_data,test_data.loc[:,[col for col in test_data.columns.tolist() if col != \"lagt\"]]],axis=1)\n",
    "#     expt_data=expt_data.drop_duplicates(\"lagt\",keep='first')\n",
    "    expt_data.to_csv(expt_dh+\"expt.emsd\")\n",
    "\n",
    "    fig = plt.figure(figsize=(6, 3))\n",
    "    ax_emsd=plt.subplot(121)\n",
    "    ax_emsd=plot_emsd(expt_data,ax_emsd)\n",
    "    plt.savefig(expt_dh+\"emsd.png\");plt.clf();plt.close()\n",
    "    return expt_data"
   ]
  },
  {
   "cell_type": "code",
   "execution_count": 59,
   "metadata": {
    "collapsed": false
   },
   "outputs": [],
   "source": [
    "def expt_dh2expt_info(expt_dh):\n",
    "    expt_info=pd.read_csv(expt_dh+\"info\")\n",
    "    cols_del=[\"dh\",\"fn_lead\"]\n",
    "    for col in expt_info.columns.tolist():\n",
    "        if \"Unnamed\" in col:\n",
    "            cols_del.append(col)\n",
    "    for col in cols_del:\n",
    "        if col in expt_info.columns.tolist():\n",
    "            del expt_info[col]    \n",
    "    expt_info2=expt_info.drop([\"smpn\"],axis=1).T\n",
    "    expt_info2.columns=expt_info.loc[:,\"smpn\"]\n",
    "\n",
    "    for col in expt_info2.columns.tolist():\n",
    "        for i in range(len(expt_info2)):\n",
    "            if not pd.isnull(expt_info2.loc[\"replicate %d\" % (i+1),col]):\n",
    "                expt_info2.loc[(\"replicate %d\" % (i+1)),col]=['replicate %d' % (i+1),expt_info2.loc[(\"replicate %d\" % (i+1)),col]]\n",
    "            else:\n",
    "                expt_info2.loc[(\"replicate %d\" % (i+1)),col]=[np.nan,np.nan]\n",
    "    expt_info2=expt_info2.reset_index()\n",
    "    del expt_info2[\"index\"]\n",
    "    return expt_info2"
   ]
  },
  {
   "cell_type": "code",
   "execution_count": 49,
   "metadata": {
    "collapsed": true
   },
   "outputs": [],
   "source": [
    "def createinfo(expt_dh):\n",
    "    info=pd.read_csv(expt_dh+\"info\")\n",
    "    for i in range(len(info)):\n",
    "        reps=glob(\"%s/%s*\" % (info.loc[i,\"dh\"],info.loc[i,\"fn_lead\"]))\n",
    "        for repi,rep in enumerate(reps):\n",
    "            info.loc[i,\"replicate %d\" % (repi+1)]=rep\n",
    "    #     break\n",
    "    info.to_csv(expt_dh+\"info\")"
   ]
  },
  {
   "cell_type": "code",
   "execution_count": null,
   "metadata": {
    "collapsed": true
   },
   "outputs": [],
   "source": [
    "ph={\"ph 5.5\":\\\n",
    "    [[\"replicate 1\",\"/media/Transcend/propro/writ/prjs/2_chem_chap_screens/data/yeast_uNS_gfp/160511_uNS_pH/sd_ph5.5_int5s_z5_001.nd2\"],\\\n",
    "     [\"replicate 2\",\"/media/Transcend/propro/writ/prjs/2_chem_chap_screens/data/yeast_uNS_gfp/160511_uNS_pH/sd_ph5.5_int5s_z5_002.nd2\"],\\\n",
    "     [\"replicate 3\",\"/media/Transcend/propro/writ/prjs/2_chem_chap_screens/data/yeast_uNS_gfp/160511_uNS_pH/sd_ph5.5_int5s_z5_003.nd2\"]],\\\n",
    "    \"ph 7.0\":\\\n",
    "    [[\"replicate 1\",\"/media/Transcend/propro/writ/prjs/2_chem_chap_screens/data/yeast_uNS_gfp/160511_uNS_pH/sd_ph7.0_int5s_z5_001.nd2\"],\\\n",
    "     [\"replicate 2\",\"/media/Transcend/propro/writ/prjs/2_chem_chap_screens/data/yeast_uNS_gfp/160511_uNS_pH/sd_ph7.0_int5s_z5_002.nd2\"],\\\n",
    "     [\"replicate 3\",\"/media/Transcend/propro/writ/prjs/2_chem_chap_screens/data/yeast_uNS_gfp/160511_uNS_pH/sd_ph7.0_int5s_z5_003.nd2\"]]} \n",
    "expt_info=pd.DataFrame(ph)\n",
    "expt_dh=\"../../../data/yeast_uNS_diffussion/data/160511_uNS_pH/\""
   ]
  },
  {
   "cell_type": "code",
   "execution_count": null,
   "metadata": {
    "collapsed": true
   },
   "outputs": [],
   "source": [
    "pbs_trial={\"PBS\":\\\n",
    "    [[\"replicate 1\",\"/media/Transcend/propro/writ/prjs/2_chem_chap_screens/data/yeast_uNS_gfp/160512_uNS_PBS_trial/pbs_int5s_z5_001.nd2\"],\\\n",
    "     [\"replicate 2\",\"/media/Transcend/propro/writ/prjs/2_chem_chap_screens/data/yeast_uNS_gfp/160512_uNS_PBS_trial/pbs_int5s_z5_002.nd2\"],\\\n",
    "     [\"replicate 3\",\"/media/Transcend/propro/writ/prjs/2_chem_chap_screens/data/yeast_uNS_gfp/160512_uNS_PBS_trial/pbs_int5s_z5_003.nd2\"]]}\n",
    "expt_info=pd.DataFrame(pbs_trial)\n",
    "expt_dh=\"../../../data/yeast_uNS_diffussion/data/160512_uNS_PBS_trial/\""
   ]
  },
  {
   "cell_type": "code",
   "execution_count": null,
   "metadata": {
    "collapsed": false
   },
   "outputs": [],
   "source": [
    "ph={\"ph 5.5\":\\\n",
    "    [[\"replicate 1\",\"/media/Transcend/propro/writ/prjs/2_chem_chap_screens/data/yeast_uNS_gfp/160511_uNS_pH/sd_ph5.5_int5s_001.nd2\"],\\\n",
    "     [\"replicate 2\",\"/media/Transcend/propro/writ/prjs/2_chem_chap_screens/data/yeast_uNS_gfp/160511_uNS_pH/sd_ph5.5_int5s_002.nd2\"],\\\n",
    "     [\"replicate 3\",\"/media/Transcend/propro/writ/prjs/2_chem_chap_screens/data/yeast_uNS_gfp/160511_uNS_pH/sd_ph5.5_int5s_003.nd2\"],\\\n",
    "     [\"replicate 4\",\"/media/Transcend/propro/writ/prjs/2_chem_chap_screens/data/yeast_uNS_gfp/160511_uNS_pH/sd_ph5.5_int5s_004.nd2\"]],\\\n",
    "    \"ph 7.0\":\\\n",
    "    [[\"replicate 1\",\"/media/Transcend/propro/writ/prjs/2_chem_chap_screens/data/yeast_uNS_gfp/160511_uNS_pH/sd_ph7.0_int5s_001.nd2\"],\\\n",
    "     [\"replicate 2\",\"/media/Transcend/propro/writ/prjs/2_chem_chap_screens/data/yeast_uNS_gfp/160511_uNS_pH/sd_ph7.0_int5s_002.nd2\"],\\\n",
    "     [\"replicate 3\",\"/media/Transcend/propro/writ/prjs/2_chem_chap_screens/data/yeast_uNS_gfp/160511_uNS_pH/sd_ph7.0_int5s_003.nd2\"],\\\n",
    "     [np.nan,np.nan]]} \n",
    "expt_info=pd.DataFrame(ph)\n",
    "expt_dh=\"../../../data/yeast_uNS_diffussion/data/160511_uNS_pH/int5s_no_zs/\""
   ]
  },
  {
   "cell_type": "code",
   "execution_count": null,
   "metadata": {
    "collapsed": false
   },
   "outputs": [],
   "source": [
    "ph={\"ph 5.5\":\\\n",
    "    [[\"replicate 1\",\"/media/Transcend/propro/writ/prjs/2_chem_chap_screens/data/yeast_uNS_gfp/160511_uNS_pH/sd_ph5.5_int1s_001.nd2\"],\\\n",
    "     [\"replicate 2\",\"/media/Transcend/propro/writ/prjs/2_chem_chap_screens/data/yeast_uNS_gfp/160511_uNS_pH/sd_ph5.5_int1s_002.nd2\"],\\\n",
    "     [\"replicate 3\",\"/media/Transcend/propro/writ/prjs/2_chem_chap_screens/data/yeast_uNS_gfp/160511_uNS_pH/sd_ph5.5_int1s_003.nd2\"]],\\\n",
    "    \"ph 7.0\":\\\n",
    "    [[\"replicate 1\",\"/media/Transcend/propro/writ/prjs/2_chem_chap_screens/data/yeast_uNS_gfp/160511_uNS_pH/sd_ph7.0_int1s_001.nd2\"],\\\n",
    "     [\"replicate 2\",\"/media/Transcend/propro/writ/prjs/2_chem_chap_screens/data/yeast_uNS_gfp/160511_uNS_pH/sd_ph7.0_int1s_002.nd2\"],\\\n",
    "     [\"replicate 3\",\"/media/Transcend/propro/writ/prjs/2_chem_chap_screens/data/yeast_uNS_gfp/160511_uNS_pH/sd_ph7.0_int1s_003.nd2\"]]} \n",
    "expt_info=pd.DataFrame(ph)\n",
    "expt_dh=\"../../../data/yeast_uNS_diffussion/data/160511_uNS_pH/int1s_no_zs/\""
   ]
  },
  {
   "cell_type": "code",
   "execution_count": null,
   "metadata": {
    "collapsed": true
   },
   "outputs": [],
   "source": [
    "ph={\"ph 5.5\":\\\n",
    "    [[\"replicate 1\",\"/media/Transcend/propro/writ/prjs/2_chem_chap_screens/data/yeast_uNS_gfp/160511_uNS_pH/sd_ph5.5_int1s_001.nd2\"],\\\n",
    "     [\"replicate 2\",\"/media/Transcend/propro/writ/prjs/2_chem_chap_screens/data/yeast_uNS_gfp/160511_uNS_pH/sd_ph5.5_int1s_002.nd2\"],\\\n",
    "     [\"replicate 3\",\"/media/Transcend/propro/writ/prjs/2_chem_chap_screens/data/yeast_uNS_gfp/160511_uNS_pH/sd_ph5.5_int1s_003.nd2\"]],\\\n",
    "    \"ph 7.0\":\\\n",
    "    [[\"replicate 1\",\"/media/Transcend/propro/writ/prjs/2_chem_chap_screens/data/yeast_uNS_gfp/160511_uNS_pH/sd_ph7.0_int1s_001.nd2\"],\\\n",
    "     [\"replicate 2\",\"/media/Transcend/propro/writ/prjs/2_chem_chap_screens/data/yeast_uNS_gfp/160511_uNS_pH/sd_ph7.0_int1s_002.nd2\"],\\\n",
    "     [\"replicate 3\",\"/media/Transcend/propro/writ/prjs/2_chem_chap_screens/data/yeast_uNS_gfp/160511_uNS_pH/sd_ph7.0_int1s_003.nd2\"]]} \n",
    "expt_info=pd.DataFrame(ph)\n",
    "expt_dh=\"../../../data/yeast_uNS_diffussion/data/160511_uNS_pH/int1s_no_zs/\""
   ]
  },
  {
   "cell_type": "code",
   "execution_count": null,
   "metadata": {
    "collapsed": false
   },
   "outputs": [],
   "source": [
    "expt_data_ph_trial=expt2plots(expt_info,expt_dh)"
   ]
  },
  {
   "cell_type": "code",
   "execution_count": null,
   "metadata": {
    "collapsed": false
   },
   "outputs": [],
   "source": [
    "expt_data_pbs_trial=expt2plots(expt_info,expt_dh)"
   ]
  },
  {
   "cell_type": "code",
   "execution_count": null,
   "metadata": {
    "collapsed": true
   },
   "outputs": [],
   "source": [
    "expt_dh=\"../../../data/yeast_uNS_diffussion/data/160514_chems_trial/\""
   ]
  },
  {
   "cell_type": "code",
   "execution_count": null,
   "metadata": {
    "collapsed": true
   },
   "outputs": [],
   "source": [
    "expt_data_chem_trial=expt2plots(expt_dh2expt_info(expt_dh),expt_dh)"
   ]
  },
  {
   "cell_type": "code",
   "execution_count": 66,
   "metadata": {
    "collapsed": false
   },
   "outputs": [
    {
     "name": "stdout",
     "output_type": "stream",
     "text": [
      "Frame 101: 1 trajectories present\n"
     ]
    },
    {
     "ename": "ValueError",
     "evalue": "No objects to concatenate",
     "output_type": "error",
     "traceback": [
      "\u001b[1;31m---------------------------------------------------------------------------\u001b[0m",
      "\u001b[1;31mValueError\u001b[0m                                Traceback (most recent call last)",
      "\u001b[1;32m<ipython-input-66-8871aafc7c29>\u001b[0m in \u001b[0;36m<module>\u001b[1;34m()\u001b[0m\n\u001b[0;32m      2\u001b[0m \u001b[0mexpt_dh\u001b[0m\u001b[1;33m=\u001b[0m\u001b[1;34m\"../../../data/yeast_uNS_diffussion/data/160516_chem_trail/\"\u001b[0m\u001b[1;33m\u001b[0m\u001b[0m\n\u001b[0;32m      3\u001b[0m \u001b[0mcreateinfo\u001b[0m\u001b[1;33m(\u001b[0m\u001b[0mexpt_dh\u001b[0m\u001b[1;33m)\u001b[0m\u001b[1;33m\u001b[0m\u001b[0m\n\u001b[1;32m----> 4\u001b[1;33m \u001b[0mexpt_data_chem_trial\u001b[0m\u001b[1;33m=\u001b[0m\u001b[0mexpt2plots\u001b[0m\u001b[1;33m(\u001b[0m\u001b[0mexpt_dh2expt_info\u001b[0m\u001b[1;33m(\u001b[0m\u001b[0mexpt_dh\u001b[0m\u001b[1;33m)\u001b[0m\u001b[1;33m,\u001b[0m\u001b[0mexpt_dh\u001b[0m\u001b[1;33m)\u001b[0m\u001b[1;33m\u001b[0m\u001b[0m\n\u001b[0m",
      "\u001b[1;32m<ipython-input-3-fa108c99db8e>\u001b[0m in \u001b[0;36mexpt2plots\u001b[1;34m(expt_info, expt_dh)\u001b[0m\n\u001b[0;32m     14\u001b[0m                 \u001b[0mout_fh\u001b[0m\u001b[1;33m=\u001b[0m\u001b[0mexpt_dh\u001b[0m\u001b[1;33m+\u001b[0m\u001b[0mout_fn\u001b[0m\u001b[1;33m\u001b[0m\u001b[0m\n\u001b[0;32m     15\u001b[0m                 \u001b[1;32mif\u001b[0m \u001b[1;32mnot\u001b[0m \u001b[0mexists\u001b[0m\u001b[1;33m(\u001b[0m\u001b[0mout_fh\u001b[0m\u001b[1;33m+\u001b[0m\u001b[1;34m\".imsd.png\"\u001b[0m\u001b[1;33m)\u001b[0m\u001b[1;33m:\u001b[0m\u001b[1;33m\u001b[0m\u001b[0m\n\u001b[1;32m---> 16\u001b[1;33m                     \u001b[0mimsd\u001b[0m\u001b[1;33m,\u001b[0m\u001b[0memsd\u001b[0m\u001b[1;33m=\u001b[0m\u001b[0mnd2msd\u001b[0m\u001b[1;33m(\u001b[0m\u001b[0mnd_fh\u001b[0m\u001b[1;33m)\u001b[0m\u001b[1;33m\u001b[0m\u001b[0m\n\u001b[0m\u001b[0;32m     17\u001b[0m                     \u001b[0memsd\u001b[0m\u001b[1;33m=\u001b[0m\u001b[0mpd\u001b[0m\u001b[1;33m.\u001b[0m\u001b[0mDataFrame\u001b[0m\u001b[1;33m(\u001b[0m\u001b[0memsd\u001b[0m\u001b[1;33m)\u001b[0m\u001b[1;33m\u001b[0m\u001b[0m\n\u001b[0;32m     18\u001b[0m                     \u001b[0memsd\u001b[0m\u001b[1;33m.\u001b[0m\u001b[0mcolumns\u001b[0m\u001b[1;33m=\u001b[0m\u001b[1;33m[\u001b[0m\u001b[0mrepn\u001b[0m\u001b[1;33m]\u001b[0m\u001b[1;33m\u001b[0m\u001b[0m\n",
      "\u001b[1;32m<ipython-input-65-a6bd929ca30f>\u001b[0m in \u001b[0;36mnd2msd\u001b[1;34m(nd_fh)\u001b[0m\n\u001b[0;32m     45\u001b[0m     \u001b[1;31m# plt.figure()\u001b[0m\u001b[1;33m\u001b[0m\u001b[1;33m\u001b[0m\u001b[0m\n\u001b[0;32m     46\u001b[0m     \u001b[1;31m# d.plot()\u001b[0m\u001b[1;33m\u001b[0m\u001b[1;33m\u001b[0m\u001b[0m\n\u001b[1;32m---> 47\u001b[1;33m     \u001b[0mimsd\u001b[0m\u001b[1;33m=\u001b[0m\u001b[0mtp\u001b[0m\u001b[1;33m.\u001b[0m\u001b[0mimsd\u001b[0m\u001b[1;33m(\u001b[0m\u001b[0mt_cor\u001b[0m\u001b[1;33m,\u001b[0m\u001b[1;36m0.1\u001b[0m\u001b[1;33m,\u001b[0m\u001b[1;36m0.2\u001b[0m\u001b[1;33m,\u001b[0m \u001b[0mmax_lagtime\u001b[0m\u001b[1;33m=\u001b[0m\u001b[1;36m100\u001b[0m\u001b[1;33m,\u001b[0m \u001b[0mstatistic\u001b[0m\u001b[1;33m=\u001b[0m\u001b[1;34m'msd'\u001b[0m\u001b[1;33m)\u001b[0m\u001b[1;33m\u001b[0m\u001b[0m\n\u001b[0m\u001b[0;32m     48\u001b[0m     \u001b[0memsd\u001b[0m\u001b[1;33m=\u001b[0m\u001b[0mtp\u001b[0m\u001b[1;33m.\u001b[0m\u001b[0memsd\u001b[0m\u001b[1;33m(\u001b[0m\u001b[0mt_cor\u001b[0m\u001b[1;33m,\u001b[0m\u001b[1;36m0.1\u001b[0m\u001b[1;33m,\u001b[0m\u001b[1;36m0.2\u001b[0m\u001b[1;33m,\u001b[0m \u001b[0mmax_lagtime\u001b[0m\u001b[1;33m=\u001b[0m\u001b[1;36m100\u001b[0m\u001b[1;33m)\u001b[0m\u001b[1;33m\u001b[0m\u001b[0m\n\u001b[0;32m     49\u001b[0m     \u001b[1;32mreturn\u001b[0m \u001b[0mimsd\u001b[0m\u001b[1;33m,\u001b[0m\u001b[0memsd\u001b[0m\u001b[1;33m\u001b[0m\u001b[0m\n",
      "\u001b[1;32m/home/kclabws1/Enthought/Canopy_64bit/User/lib/python2.7/site-packages/trackpy/motion.pyc\u001b[0m in \u001b[0;36mimsd\u001b[1;34m(traj, mpp, fps, max_lagtime, statistic, pos_columns)\u001b[0m\n\u001b[0;32m     85\u001b[0m         \u001b[0mmsds\u001b[0m\u001b[1;33m.\u001b[0m\u001b[0mappend\u001b[0m\u001b[1;33m(\u001b[0m\u001b[0mmsd\u001b[0m\u001b[1;33m(\u001b[0m\u001b[0mptraj\u001b[0m\u001b[1;33m,\u001b[0m \u001b[0mmpp\u001b[0m\u001b[1;33m,\u001b[0m \u001b[0mfps\u001b[0m\u001b[1;33m,\u001b[0m \u001b[0mmax_lagtime\u001b[0m\u001b[1;33m,\u001b[0m \u001b[0mFalse\u001b[0m\u001b[1;33m,\u001b[0m \u001b[0mpos_columns\u001b[0m\u001b[1;33m)\u001b[0m\u001b[1;33m)\u001b[0m\u001b[1;33m\u001b[0m\u001b[0m\n\u001b[0;32m     86\u001b[0m         \u001b[0mids\u001b[0m\u001b[1;33m.\u001b[0m\u001b[0mappend\u001b[0m\u001b[1;33m(\u001b[0m\u001b[0mpid\u001b[0m\u001b[1;33m)\u001b[0m\u001b[1;33m\u001b[0m\u001b[0m\n\u001b[1;32m---> 87\u001b[1;33m     \u001b[0mresults\u001b[0m \u001b[1;33m=\u001b[0m \u001b[0mpd\u001b[0m\u001b[1;33m.\u001b[0m\u001b[0mconcat\u001b[0m\u001b[1;33m(\u001b[0m\u001b[0mmsds\u001b[0m\u001b[1;33m,\u001b[0m \u001b[0mkeys\u001b[0m\u001b[1;33m=\u001b[0m\u001b[0mids\u001b[0m\u001b[1;33m)\u001b[0m\u001b[1;33m\u001b[0m\u001b[0m\n\u001b[0m\u001b[0;32m     88\u001b[0m     \u001b[1;31m# Swap MultiIndex levels so that unstack() makes particles into columns.\u001b[0m\u001b[1;33m\u001b[0m\u001b[1;33m\u001b[0m\u001b[0m\n\u001b[0;32m     89\u001b[0m     \u001b[0mresults\u001b[0m \u001b[1;33m=\u001b[0m \u001b[0mresults\u001b[0m\u001b[1;33m.\u001b[0m\u001b[0mswaplevel\u001b[0m\u001b[1;33m(\u001b[0m\u001b[1;36m0\u001b[0m\u001b[1;33m,\u001b[0m \u001b[1;36m1\u001b[0m\u001b[1;33m)\u001b[0m\u001b[1;33m[\u001b[0m\u001b[0mstatistic\u001b[0m\u001b[1;33m]\u001b[0m\u001b[1;33m.\u001b[0m\u001b[0munstack\u001b[0m\u001b[1;33m(\u001b[0m\u001b[1;33m)\u001b[0m\u001b[1;33m\u001b[0m\u001b[0m\n",
      "\u001b[1;32m/home/kclabws1/Enthought/Canopy_64bit/User/lib/python2.7/site-packages/pandas/tools/merge.pyc\u001b[0m in \u001b[0;36mconcat\u001b[1;34m(objs, axis, join, join_axes, ignore_index, keys, levels, names, verify_integrity, copy)\u001b[0m\n\u001b[0;32m    832\u001b[0m                        \u001b[0mkeys\u001b[0m\u001b[1;33m=\u001b[0m\u001b[0mkeys\u001b[0m\u001b[1;33m,\u001b[0m \u001b[0mlevels\u001b[0m\u001b[1;33m=\u001b[0m\u001b[0mlevels\u001b[0m\u001b[1;33m,\u001b[0m \u001b[0mnames\u001b[0m\u001b[1;33m=\u001b[0m\u001b[0mnames\u001b[0m\u001b[1;33m,\u001b[0m\u001b[1;33m\u001b[0m\u001b[0m\n\u001b[0;32m    833\u001b[0m                        \u001b[0mverify_integrity\u001b[0m\u001b[1;33m=\u001b[0m\u001b[0mverify_integrity\u001b[0m\u001b[1;33m,\u001b[0m\u001b[1;33m\u001b[0m\u001b[0m\n\u001b[1;32m--> 834\u001b[1;33m                        copy=copy)\n\u001b[0m\u001b[0;32m    835\u001b[0m     \u001b[1;32mreturn\u001b[0m \u001b[0mop\u001b[0m\u001b[1;33m.\u001b[0m\u001b[0mget_result\u001b[0m\u001b[1;33m(\u001b[0m\u001b[1;33m)\u001b[0m\u001b[1;33m\u001b[0m\u001b[0m\n\u001b[0;32m    836\u001b[0m \u001b[1;33m\u001b[0m\u001b[0m\n",
      "\u001b[1;32m/home/kclabws1/Enthought/Canopy_64bit/User/lib/python2.7/site-packages/pandas/tools/merge.pyc\u001b[0m in \u001b[0;36m__init__\u001b[1;34m(self, objs, axis, join, join_axes, keys, levels, names, ignore_index, verify_integrity, copy)\u001b[0m\n\u001b[0;32m    865\u001b[0m \u001b[1;33m\u001b[0m\u001b[0m\n\u001b[0;32m    866\u001b[0m         \u001b[1;32mif\u001b[0m \u001b[0mlen\u001b[0m\u001b[1;33m(\u001b[0m\u001b[0mobjs\u001b[0m\u001b[1;33m)\u001b[0m \u001b[1;33m==\u001b[0m \u001b[1;36m0\u001b[0m\u001b[1;33m:\u001b[0m\u001b[1;33m\u001b[0m\u001b[0m\n\u001b[1;32m--> 867\u001b[1;33m             \u001b[1;32mraise\u001b[0m \u001b[0mValueError\u001b[0m\u001b[1;33m(\u001b[0m\u001b[1;34m'No objects to concatenate'\u001b[0m\u001b[1;33m)\u001b[0m\u001b[1;33m\u001b[0m\u001b[0m\n\u001b[0m\u001b[0;32m    868\u001b[0m \u001b[1;33m\u001b[0m\u001b[0m\n\u001b[0;32m    869\u001b[0m         \u001b[1;32mif\u001b[0m \u001b[0mkeys\u001b[0m \u001b[1;32mis\u001b[0m \u001b[0mNone\u001b[0m\u001b[1;33m:\u001b[0m\u001b[1;33m\u001b[0m\u001b[0m\n",
      "\u001b[1;31mValueError\u001b[0m: No objects to concatenate"
     ]
    }
   ],
   "source": [
    "#160516\n",
    "expt_dh=\"../../../data/yeast_uNS_diffussion/data/160516_chem_trail/\"\n",
    "createinfo(expt_dh)\n",
    "expt_data_chem_trial=expt2plots(expt_dh2expt_info(expt_dh),expt_dh)"
   ]
  },
  {
   "cell_type": "code",
   "execution_count": 58,
   "metadata": {
    "collapsed": false
   },
   "outputs": [],
   "source": [
    "# tmp=pd.read_csv(expt_dh+\"info\")\n",
    "del tmp['Unnamed: 0.1']"
   ]
  },
  {
   "cell_type": "code",
   "execution_count": null,
   "metadata": {
    "collapsed": false
   },
   "outputs": [],
   "source": [
    "tmp.iloc[0,1]"
   ]
  },
  {
   "cell_type": "code",
   "execution_count": null,
   "metadata": {
    "collapsed": false
   },
   "outputs": [],
   "source": [
    "tmp.to_csv(\"test\")"
   ]
  },
  {
   "cell_type": "code",
   "execution_count": null,
   "metadata": {
    "collapsed": true
   },
   "outputs": [],
   "source": []
  },
  {
   "cell_type": "code",
   "execution_count": null,
   "metadata": {
    "collapsed": false
   },
   "outputs": [],
   "source": [
    "fig = plt.figure(figsize=(6, 3))\n",
    "ax_emsd=plt.subplot(121)\n",
    "ax_emsd=plot_emsd(expt_data_ph_trial,ax_emsd)\n",
    "plt.savefig(expt_dh+\"emsd.png\");\n",
    "plt.clf();plt.close()"
   ]
  },
  {
   "cell_type": "code",
   "execution_count": null,
   "metadata": {
    "collapsed": true
   },
   "outputs": [],
   "source": []
  },
  {
   "cell_type": "code",
   "execution_count": null,
   "metadata": {
    "collapsed": true
   },
   "outputs": [],
   "source": []
  },
  {
   "cell_type": "code",
   "execution_count": null,
   "metadata": {
    "collapsed": false
   },
   "outputs": [],
   "source": [
    "plot_msd(imsd,emsd,ax_imsd)"
   ]
  },
  {
   "cell_type": "code",
   "execution_count": null,
   "metadata": {
    "collapsed": false
   },
   "outputs": [],
   "source": [
    "expt_dh"
   ]
  },
  {
   "cell_type": "code",
   "execution_count": null,
   "metadata": {
    "collapsed": false
   },
   "outputs": [],
   "source": [
    "fig = plt.figure(figsize=(3, 3))\n",
    "ax_emsd=plt.subplot(111)\n",
    "expt_data.reset_index().plot(x=\"lagt\",style='o',ax=ax_emsd)\n",
    "ax_emsd.set_xscale('log')\n",
    "ax_emsd.set_yscale('log')\n",
    "ax_emsd.set(ylabel=r'$\\langle \\Delta r^2 \\rangle$ [$\\mu$m$^2$]',\n",
    "            xlabel='lag time $t$')\n",
    "ax_emsd.legend(bbox_to_anchor=(2.2, 1.0))"
   ]
  },
  {
   "cell_type": "code",
   "execution_count": null,
   "metadata": {
    "collapsed": false
   },
   "outputs": [],
   "source": [
    "expt_data.columns.tolist()"
   ]
  },
  {
   "cell_type": "code",
   "execution_count": null,
   "metadata": {
    "collapsed": true
   },
   "outputs": [],
   "source": []
  },
  {
   "cell_type": "code",
   "execution_count": null,
   "metadata": {
    "collapsed": true
   },
   "outputs": [],
   "source": []
  },
  {
   "cell_type": "code",
   "execution_count": null,
   "metadata": {
    "collapsed": true
   },
   "outputs": [],
   "source": []
  },
  {
   "cell_type": "code",
   "execution_count": null,
   "metadata": {
    "collapsed": false
   },
   "outputs": [],
   "source": [
    "imsd,emsd=nd2msd(nd_fh)"
   ]
  },
  {
   "cell_type": "code",
   "execution_count": null,
   "metadata": {
    "collapsed": false
   },
   "outputs": [],
   "source": [
    "imsd.head()"
   ]
  },
  {
   "cell_type": "code",
   "execution_count": null,
   "metadata": {
    "collapsed": false
   },
   "outputs": [],
   "source": [
    "frames=pims.ND2_Reader(nd_fh)\n",
    "if len(np.shape(frames))==4:\n",
    "    frames = average_z(frames)\n",
    "# frames."
   ]
  },
  {
   "cell_type": "code",
   "execution_count": null,
   "metadata": {
    "collapsed": false
   },
   "outputs": [],
   "source": [
    "f = tp.locate(frames[0],diameter=11,threshold=np.percentile(frames[0],75))\n",
    "plt.figure()  # make a new figure\n",
    "tp.annotate(f, frames[0])\n",
    "f.shape"
   ]
  },
  {
   "cell_type": "code",
   "execution_count": null,
   "metadata": {
    "collapsed": false
   },
   "outputs": [],
   "source": [
    "pd.concat([f,f_batch],axis=1)"
   ]
  },
  {
   "cell_type": "code",
   "execution_count": null,
   "metadata": {
    "collapsed": false
   },
   "outputs": [],
   "source": [
    "f_batch = tp.batch([frames[0]],diameter=11,threshold=np.percentile([frames[0]],75))\n",
    "plt.figure()  # make a new figure\n",
    "tp.annotate(f_batch, frames[0])\n",
    "f_batch.shape"
   ]
  },
  {
   "cell_type": "code",
   "execution_count": null,
   "metadata": {
    "collapsed": true
   },
   "outputs": [],
   "source": []
  },
  {
   "cell_type": "code",
   "execution_count": null,
   "metadata": {
    "collapsed": false,
    "scrolled": true
   },
   "outputs": [],
   "source": [
    "hist_data=np.ravel(frames[0])\n",
    "plt.hist(hist_data, bins=100, range=(0.0, 6000.0))"
   ]
  },
  {
   "cell_type": "code",
   "execution_count": null,
   "metadata": {
    "collapsed": true
   },
   "outputs": [],
   "source": []
  },
  {
   "cell_type": "code",
   "execution_count": null,
   "metadata": {
    "collapsed": false,
    "scrolled": true
   },
   "outputs": [],
   "source": [
    "features_all = pd.DataFrame()\n",
    "i=0\n",
    "for frame in frames:\n",
    "    features = tp.locate(frame,diameter=11,threshold=np.percentile(frames[0],75))\n",
    "    frame_no = i\n",
    "    features['frame'] = frame_no  # just counting iterations\n",
    "    if len(features_all)==0:\n",
    "        features_all=features\n",
    "    else:\n",
    "        features_all.append(features)\n",
    "    i+=1"
   ]
  },
  {
   "cell_type": "code",
   "execution_count": null,
   "metadata": {
    "collapsed": true
   },
   "outputs": [],
   "source": []
  },
  {
   "cell_type": "code",
   "execution_count": null,
   "metadata": {
    "collapsed": true
   },
   "outputs": [],
   "source": []
  },
  {
   "cell_type": "code",
   "execution_count": 28,
   "metadata": {
    "collapsed": false
   },
   "outputs": [],
   "source": []
  },
  {
   "cell_type": "code",
   "execution_count": 45,
   "metadata": {
    "collapsed": false
   },
   "outputs": [],
   "source": []
  },
  {
   "cell_type": "code",
   "execution_count": null,
   "metadata": {
    "collapsed": true
   },
   "outputs": [],
   "source": []
  }
 ],
 "metadata": {
  "kernelspec": {
   "display_name": "Python 2",
   "language": "python",
   "name": "python2"
  },
  "language_info": {
   "codemirror_mode": {
    "name": "ipython",
    "version": 2
   },
   "file_extension": ".py",
   "mimetype": "text/x-python",
   "name": "python",
   "nbconvert_exporter": "python",
   "pygments_lexer": "ipython2",
   "version": "2.7.9"
  }
 },
 "nbformat": 4,
 "nbformat_minor": 0
}
