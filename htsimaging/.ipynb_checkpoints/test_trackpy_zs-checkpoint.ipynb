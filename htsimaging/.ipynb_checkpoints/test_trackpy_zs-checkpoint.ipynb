{
 "cells": [
  {
   "cell_type": "code",
   "execution_count": 1,
   "metadata": {
    "collapsed": true
   },
   "outputs": [],
   "source": [
    "from os.path import splitext, join, exists, isdir,basename,abspath,dirname\n",
    "import trackpy as tp\n",
    "import nd2reader\n",
    "import numpy as np\n",
    "import pandas as pd\n",
    "import matplotlib.pyplot as plt\n",
    "import pims\n",
    "import pims_nd2\n",
    "\n",
    "%matplotlib inline"
   ]
  },
  {
   "cell_type": "code",
   "execution_count": 2,
   "metadata": {
    "collapsed": true
   },
   "outputs": [],
   "source": [
    "@pims.pipeline\n",
    "def average_z(image):\n",
    "    return image.mean(axis=0)  # the same as image[0] + ... + image[4]\n",
    "\n",
    "def plot_msd(imsd,emsd,ax):\n",
    "    imsd.reset_index().plot(x=\"lag time [s]\",legend=None,alpha=0.75,ax=ax)\n",
    "    ax.set(ylabel=r'$\\langle \\Delta r^2 \\rangle$ [$\\mu$m$^2$]',\n",
    "           xlabel='lag time $t$')\n",
    "    ax.set_xscale('log')\n",
    "    ax.set_yscale('log')\n",
    "\n",
    "    emsd.plot(x=\"lagt\",style='o',legend=None,ax=ax)\n",
    "    ax.set_xscale('log')\n",
    "    ax.set_yscale('log')\n",
    "    ax.set(ylabel=r'$\\langle \\Delta r^2 \\rangle$ [$\\mu$m$^2$]',\n",
    "           xlabel='lag time $t$')\n",
    "    plt.tight_layout()\n",
    "    return ax\n",
    "\n",
    "def plot_emsd(expt_data,ax_emsd):\n",
    "    expt_data.plot(x=\"lagt\",style='o',ax=ax_emsd)\n",
    "    ax_emsd.set_xscale('log')\n",
    "    ax_emsd.set_yscale('log')\n",
    "    ax_emsd.set(ylabel=r'$\\langle \\Delta r^2 \\rangle$ [$\\mu$m$^2$]',\n",
    "                xlabel='lag time $t$')\n",
    "    ax_emsd.legend(loc = 'center left', bbox_to_anchor = (1.0, 0.5)) #bbox_to_anchor=(2.2, 1.0)\n",
    "    plt.tight_layout()\n",
    "\n",
    "def nd2msd(nd_fh):\n",
    "    frames=pims.ND2_Reader(nd_fh)\n",
    "    if len(np.shape(frames))==4:\n",
    "        frames = average_z(frames)\n",
    "    f_batch = tp.batch(frames,diameter=11,threshold=np.percentile(frames,75))\n",
    "\n",
    "    t = tp.link_df(f_batch, search_range=11, memory=3)\n",
    "    t_flt = tp.filter_stubs(t, 3*int(len(frames)/4))\n",
    "    d = tp.compute_drift(t_flt)\n",
    "    t_cor = tp.subtract_drift(t_flt, d)\n",
    "    # plt.figure()\n",
    "    # tp.plot_traj(t_flt)\n",
    "    # plt.figure()\n",
    "    # d.plot()\n",
    "    imsd=tp.imsd(t_cor,0.1,0.2, max_lagtime=100, statistic='msd')\n",
    "    emsd=tp.emsd(t_cor,0.1,0.2, max_lagtime=100)\n",
    "    return imsd,emsd"
   ]
  },
  {
   "cell_type": "code",
   "execution_count": 20,
   "metadata": {
    "collapsed": false
   },
   "outputs": [],
   "source": [
    "def expt2plots(expt_info,expt_dh):\n",
    "    expt_data=pd.DataFrame()    \n",
    "    for test in expt_info:\n",
    "        test_info=expt_info.loc[:,test]\n",
    "        test_data=pd.DataFrame()    \n",
    "        for rep in test_info:\n",
    "            repn=\"%s %s\" % (test,rep[0])\n",
    "            nd_fh=rep[1]\n",
    "            out_fn=splitext(basename(nd_fh))[0]\n",
    "            out_fh=expt_dh+out_fn\n",
    "            imsd,emsd=nd2msd(nd_fh)\n",
    "            emsd=pd.DataFrame(emsd)\n",
    "            emsd.columns=[repn]\n",
    "            emsd=emsd.reset_index()\n",
    "            imsd.to_csv(out_fh+\".imsd\")\n",
    "            emsd.to_csv(out_fh+\".emsd\")\n",
    "\n",
    "            fig = plt.figure(figsize=(3, 3))\n",
    "            ax_imsd=plt.subplot(111)\n",
    "            ax_imsd=plot_msd(imsd,emsd,ax_imsd)\n",
    "            ax_imsd.figure.savefig(out_fh+\".imsd.png\");plt.clf();plt.close()\n",
    "\n",
    "            if len(test_data)==0:\n",
    "                test_data=emsd\n",
    "            else:\n",
    "#                 test_data[repn]=emsd[repn]\n",
    "                test_data=pd.concat([test_data,emsd[repn]],axis=1)\n",
    "        test_data.to_csv(expt_dh+test+\".emsd\")\n",
    "        if len(expt_data)==0:\n",
    "            expt_data=test_data\n",
    "        else:\n",
    "#             expt_data.loc[:,test_data.columns.tolist()]=test_data.loc[:,test_data.columns.tolist()]\n",
    "            expt_data=pd.concat([expt_data,test_data],axis=1)\n",
    "    expt_data.to_csv(expt_dh+\"expt.emsd\")\n",
    "\n",
    "    fig = plt.figure(figsize=(6, 3))\n",
    "    ax_emsd=plt.subplot(121)\n",
    "    ax_emsd=plot_emsd(expt_data,ax_emsd)\n",
    "    plt.savefig(expt_dh+\"emsd.png\");plt.clf();plt.close()\n",
    "    return expt_data"
   ]
  },
  {
   "cell_type": "code",
   "execution_count": null,
   "metadata": {
    "collapsed": true
   },
   "outputs": [],
   "source": [
    "ph={\"ph 5.5\":\\\n",
    "    [[\"replicate 1\",\"/media/Transcend/propro/writ/prjs/2_chem_chap_screens/data/yeast_uNS_gfp/160511_uNS_pH/sd_ph5.5_int5s_z5_001.nd2\"],\\\n",
    "     [\"replicate 2\",\"/media/Transcend/propro/writ/prjs/2_chem_chap_screens/data/yeast_uNS_gfp/160511_uNS_pH/sd_ph5.5_int5s_z5_002.nd2\"],\\\n",
    "     [\"replicate 3\",\"/media/Transcend/propro/writ/prjs/2_chem_chap_screens/data/yeast_uNS_gfp/160511_uNS_pH/sd_ph5.5_int5s_z5_003.nd2\"]],\\\n",
    "    \"ph 7.0\":\\\n",
    "    [[\"replicate 1\",\"/media/Transcend/propro/writ/prjs/2_chem_chap_screens/data/yeast_uNS_gfp/160511_uNS_pH/sd_ph7.0_int5s_z5_001.nd2\"],\\\n",
    "     [\"replicate 2\",\"/media/Transcend/propro/writ/prjs/2_chem_chap_screens/data/yeast_uNS_gfp/160511_uNS_pH/sd_ph7.0_int5s_z5_002.nd2\"],\\\n",
    "     [\"replicate 3\",\"/media/Transcend/propro/writ/prjs/2_chem_chap_screens/data/yeast_uNS_gfp/160511_uNS_pH/sd_ph7.0_int5s_z5_003.nd2\"]]} \n",
    "expt_info=pd.DataFrame(ph)\n",
    "expt_dh=\"../../../data/yeast_uNS_diffussion/data/160511_uNS_pH/\""
   ]
  },
  {
   "cell_type": "code",
   "execution_count": 10,
   "metadata": {
    "collapsed": true
   },
   "outputs": [],
   "source": [
    "pbs_trial={\"PBS\":\\\n",
    "    [[\"replicate 1\",\"/media/Transcend/propro/writ/prjs/2_chem_chap_screens/data/yeast_uNS_gfp/160512_uNS_PBS_trial/pbs_int5s_z5_001.nd2\"],\\\n",
    "     [\"replicate 2\",\"/media/Transcend/propro/writ/prjs/2_chem_chap_screens/data/yeast_uNS_gfp/160512_uNS_PBS_trial/pbs_int5s_z5_002.nd2\"],\\\n",
    "     [\"replicate 3\",\"/media/Transcend/propro/writ/prjs/2_chem_chap_screens/data/yeast_uNS_gfp/160512_uNS_PBS_trial/pbs_int5s_z5_003.nd2\"]]}\n",
    "expt_info=pd.DataFrame(pbs_trial)\n",
    "expt_dh=\"../../../data/yeast_uNS_diffussion/data/160512_uNS_PBS_trial/\""
   ]
  },
  {
   "cell_type": "code",
   "execution_count": null,
   "metadata": {
    "collapsed": true
   },
   "outputs": [],
   "source": [
    "expt_data_ph_trial=expt2plots(expt_info,expt_dh)"
   ]
  },
  {
   "cell_type": "code",
   "execution_count": 21,
   "metadata": {
    "collapsed": false
   },
   "outputs": [
    {
     "name": "stdout",
     "output_type": "stream",
     "text": [
      "Frame 118: 45 trajectories present\n"
     ]
    }
   ],
   "source": [
    "expt_data_pbs_trial=expt2plots(expt_info,expt_dh)"
   ]
  },
  {
   "cell_type": "code",
   "execution_count": null,
   "metadata": {
    "collapsed": true
   },
   "outputs": [],
   "source": []
  },
  {
   "cell_type": "code",
   "execution_count": null,
   "metadata": {
    "collapsed": true
   },
   "outputs": [],
   "source": []
  },
  {
   "cell_type": "code",
   "execution_count": null,
   "metadata": {
    "collapsed": true
   },
   "outputs": [],
   "source": []
  },
  {
   "cell_type": "code",
   "execution_count": null,
   "metadata": {
    "collapsed": false
   },
   "outputs": [],
   "source": [
    "fig = plt.figure(figsize=(6, 3))\n",
    "ax_emsd=plt.subplot(121)\n",
    "ax_emsd=plot_emsd(expt_data_ph_trial,ax_emsd)\n",
    "plt.savefig(expt_dh+\"emsd.png\");\n",
    "plt.clf();plt.close()"
   ]
  },
  {
   "cell_type": "code",
   "execution_count": null,
   "metadata": {
    "collapsed": true
   },
   "outputs": [],
   "source": []
  },
  {
   "cell_type": "code",
   "execution_count": null,
   "metadata": {
    "collapsed": true
   },
   "outputs": [],
   "source": []
  },
  {
   "cell_type": "code",
   "execution_count": null,
   "metadata": {
    "collapsed": false
   },
   "outputs": [],
   "source": [
    "plot_msd(imsd,emsd,ax_imsd)"
   ]
  },
  {
   "cell_type": "code",
   "execution_count": null,
   "metadata": {
    "collapsed": false
   },
   "outputs": [],
   "source": [
    "expt_dh"
   ]
  },
  {
   "cell_type": "code",
   "execution_count": null,
   "metadata": {
    "collapsed": false
   },
   "outputs": [],
   "source": [
    "fig = plt.figure(figsize=(3, 3))\n",
    "ax_emsd=plt.subplot(111)\n",
    "expt_data.reset_index().plot(x=\"lagt\",style='o',ax=ax_emsd)\n",
    "ax_emsd.set_xscale('log')\n",
    "ax_emsd.set_yscale('log')\n",
    "ax_emsd.set(ylabel=r'$\\langle \\Delta r^2 \\rangle$ [$\\mu$m$^2$]',\n",
    "            xlabel='lag time $t$')\n",
    "ax_emsd.legend(bbox_to_anchor=(2.2, 1.0))"
   ]
  },
  {
   "cell_type": "code",
   "execution_count": null,
   "metadata": {
    "collapsed": false
   },
   "outputs": [],
   "source": [
    "expt_data.columns.tolist()"
   ]
  },
  {
   "cell_type": "code",
   "execution_count": null,
   "metadata": {
    "collapsed": true
   },
   "outputs": [],
   "source": []
  },
  {
   "cell_type": "code",
   "execution_count": null,
   "metadata": {
    "collapsed": true
   },
   "outputs": [],
   "source": []
  },
  {
   "cell_type": "code",
   "execution_count": null,
   "metadata": {
    "collapsed": true
   },
   "outputs": [],
   "source": []
  },
  {
   "cell_type": "code",
   "execution_count": null,
   "metadata": {
    "collapsed": false
   },
   "outputs": [],
   "source": [
    "imsd,emsd=nd2msd(nd_fh)"
   ]
  },
  {
   "cell_type": "code",
   "execution_count": null,
   "metadata": {
    "collapsed": false
   },
   "outputs": [],
   "source": [
    "imsd.head()"
   ]
  },
  {
   "cell_type": "code",
   "execution_count": null,
   "metadata": {
    "collapsed": false
   },
   "outputs": [],
   "source": [
    "frames=pims.ND2_Reader(nd_fh)\n",
    "if len(np.shape(frames))==4:\n",
    "    frames = average_z(frames)\n",
    "# frames."
   ]
  },
  {
   "cell_type": "code",
   "execution_count": null,
   "metadata": {
    "collapsed": false
   },
   "outputs": [],
   "source": [
    "f = tp.locate(frames[0],diameter=11,threshold=np.percentile(frames[0],75))\n",
    "plt.figure()  # make a new figure\n",
    "tp.annotate(f, frames[0])\n",
    "f.shape"
   ]
  },
  {
   "cell_type": "code",
   "execution_count": null,
   "metadata": {
    "collapsed": false
   },
   "outputs": [],
   "source": [
    "pd.concat([f,f_batch],axis=1)"
   ]
  },
  {
   "cell_type": "code",
   "execution_count": null,
   "metadata": {
    "collapsed": false
   },
   "outputs": [],
   "source": [
    "f_batch = tp.batch([frames[0]],diameter=11,threshold=np.percentile([frames[0]],75))\n",
    "plt.figure()  # make a new figure\n",
    "tp.annotate(f_batch, frames[0])\n",
    "f_batch.shape"
   ]
  },
  {
   "cell_type": "code",
   "execution_count": null,
   "metadata": {
    "collapsed": true
   },
   "outputs": [],
   "source": []
  },
  {
   "cell_type": "code",
   "execution_count": null,
   "metadata": {
    "collapsed": false,
    "scrolled": true
   },
   "outputs": [],
   "source": [
    "hist_data=np.ravel(frames[0])\n",
    "plt.hist(hist_data, bins=100, range=(0.0, 6000.0))"
   ]
  },
  {
   "cell_type": "code",
   "execution_count": null,
   "metadata": {
    "collapsed": true
   },
   "outputs": [],
   "source": []
  },
  {
   "cell_type": "code",
   "execution_count": null,
   "metadata": {
    "collapsed": false,
    "scrolled": true
   },
   "outputs": [],
   "source": [
    "features_all = pd.DataFrame()\n",
    "i=0\n",
    "for frame in frames:\n",
    "    features = tp.locate(frame,diameter=11,threshold=np.percentile(frames[0],75))\n",
    "    frame_no = i\n",
    "    features['frame'] = frame_no  # just counting iterations\n",
    "    if len(features_all)==0:\n",
    "        features_all=features\n",
    "    else:\n",
    "        features_all.append(features)\n",
    "    i+=1"
   ]
  }
 ],
 "metadata": {
  "kernelspec": {
   "display_name": "Python 2",
   "language": "python",
   "name": "python2"
  },
  "language_info": {
   "codemirror_mode": {
    "name": "ipython",
    "version": 2
   },
   "file_extension": ".py",
   "mimetype": "text/x-python",
   "name": "python",
   "nbconvert_exporter": "python",
   "pygments_lexer": "ipython2",
   "version": "2.7.9"
  }
 },
 "nbformat": 4,
 "nbformat_minor": 0
}
