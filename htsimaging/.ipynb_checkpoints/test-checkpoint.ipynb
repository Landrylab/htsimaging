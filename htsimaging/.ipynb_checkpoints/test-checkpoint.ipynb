{
 "cells": [
  {
   "cell_type": "code",
   "execution_count": 24,
   "metadata": {
    "collapsed": false
   },
   "outputs": [],
   "source": [
    "import sys\n",
    "import pandas as pd\n",
    "import string\n",
    "import numpy as np\n",
    "from scipy import stats\n",
    "import os\n",
    "#from multiprocessing import Pool\n",
    "from os.path import splitext,basename,exists\n"
   ]
  },
  {
   "cell_type": "code",
   "execution_count": 25,
   "metadata": {
    "collapsed": false
   },
   "outputs": [],
   "source": [
    "data_xls_fh='../test/test.xlsx'\n",
    "info=pd.read_excel(data_xls_fh,'info')\n",
    "info=info.set_index('varname')\n",
    "for var in info.iterrows():\n",
    "    val=info['input'][var[0]]\n",
    "    #print var[0]\n",
    "    if not pd.isnull(val):\n",
    "        exec(\"%s=info['input']['%s']\" % (var[0],var[0]))\n",
    "    else:\n",
    "        exec(\"%s=info['default']['%s']\" % (var[0],var[0]))\n",
    "\n"
   ]
  },
  {
   "cell_type": "code",
   "execution_count": 26,
   "metadata": {
    "collapsed": false
   },
   "outputs": [],
   "source": [
    "data_job=pd.read_excel(data_xls_fh,'JobView')\n",
    "data_job_del_cols=[str(s) for s in data_job.columns if 'Intensity' in str(s) ]\n",
    "for col in data_job_del_cols:\n",
    "    exec(\"del data_job['%s']\" % col,locals(), globals())\n",
    "\n",
    "nd_fns =[str(s) for s in data_job['File Name'].tolist()]\n",
    "frameis=[int(s) for s in data_job['File Frame Index'].tolist()]\n",
    "\n",
    "csv_fhs =[]\n",
    "nums_fhs=[]\n",
    "nd_fn_framei_tps=[]\n",
    "for i in range(len(csv_fhs)):\n",
    "    csv_fhs.append(\"%s/%s%02d.csv\" % (nd_dh,nd_fns[i],frameis[i]))\n",
    "    nums_fhs.append(\"%s/%s%02d.csv.nums\" % (nd_dh,nd_fns[i],frameis[i]))\n",
    "    nd_fn_framei_tps.append([nd_fns[i],frameis[i]])\n",
    "    "
   ]
  },
  {
   "cell_type": "code",
   "execution_count": 36,
   "metadata": {
    "collapsed": false
   },
   "outputs": [],
   "source": [
    "data_job=pd.read_excel(data_xls_fh,'JobView')\n"
   ]
  },
  {
   "cell_type": "code",
   "execution_count": 38,
   "metadata": {
    "collapsed": false
   },
   "outputs": [],
   "source": [
    "data_job_del_cols=[str(s) for s in data_job.columns if 'Intensity' in str(s) ]\n",
    "for col in data_job_del_cols:\n",
    "    exec(\"del data_job['%s']\" % col,locals(), globals())\n"
   ]
  },
  {
   "cell_type": "code",
   "execution_count": 40,
   "metadata": {
    "collapsed": false
   },
   "outputs": [],
   "source": [
    "nd_fns =[str(s) for s in data_job['File Name'].tolist()]\n",
    "frameis=[int(s) for s in data_job['File Frame Index'].tolist()]\n",
    "\n",
    "csv_fhs =[]\n",
    "nums_fhs=[]\n",
    "nd_fn_framei_tps=[]\n",
    "for i in range(len(csv_fhs)):\n",
    "    csv_fhs.append(\"%s/%s%02d.csv\" % (nd_dh,nd_fns[i],frameis[i]))\n",
    "    nums_fhs.append(\"%s/%s%02d.csv.nums\" % (nd_dh,nd_fns[i],frameis[i]))\n",
    "    nd_fn_framei_tps.append([nd_fns[i],frameis[i]])\n"
   ]
  },
  {
   "cell_type": "code",
   "execution_count": 41,
   "metadata": {
    "collapsed": false
   },
   "outputs": [],
   "source": [
    "data_job=data_job.set_index(['File Name', 'File Frame Index'], inplace=True)\n"
   ]
  },
  {
   "cell_type": "code",
   "execution_count": 42,
   "metadata": {
    "collapsed": false
   },
   "outputs": [
    {
     "ename": "AttributeError",
     "evalue": "'NoneType' object has no attribute 'head'",
     "output_type": "error",
     "traceback": [
      "\u001b[1;31m---------------------------------------------------------------------------\u001b[0m",
      "\u001b[1;31mAttributeError\u001b[0m                            Traceback (most recent call last)",
      "\u001b[1;32m<ipython-input-42-04cc2e9726fd>\u001b[0m in \u001b[0;36m<module>\u001b[1;34m()\u001b[0m\n\u001b[1;32m----> 1\u001b[1;33m \u001b[0mdata_job\u001b[0m\u001b[1;33m.\u001b[0m\u001b[0mhead\u001b[0m\u001b[1;33m(\u001b[0m\u001b[1;33m)\u001b[0m\u001b[1;33m\u001b[0m\u001b[0m\n\u001b[0m\u001b[0;32m      2\u001b[0m \u001b[1;33m\u001b[0m\u001b[0m\n",
      "\u001b[1;31mAttributeError\u001b[0m: 'NoneType' object has no attribute 'head'"
     ]
    }
   ],
   "source": [
    "data_job.head()\n",
    "\n"
   ]
  },
  {
   "cell_type": "code",
   "execution_count": null,
   "metadata": {
    "collapsed": true
   },
   "outputs": [],
   "source": []
  }
 ],
 "metadata": {
  "kernelspec": {
   "display_name": "Python 2",
   "language": "python",
   "name": "python2"
  },
  "language_info": {
   "codemirror_mode": {
    "name": "ipython",
    "version": 2
   },
   "file_extension": ".py",
   "mimetype": "text/x-python",
   "name": "python",
   "nbconvert_exporter": "python",
   "pygments_lexer": "ipython2",
   "version": "2.7.9"
  }
 },
 "nbformat": 4,
 "nbformat_minor": 0
}
